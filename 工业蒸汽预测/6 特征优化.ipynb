{
 "cells": [
  {
   "cell_type": "markdown",
   "metadata": {},
   "source": [
    "## 特征优化\n",
    "\n",
    "### 导入数据"
   ]
  },
  {
   "cell_type": "code",
   "execution_count": 1,
   "metadata": {},
   "outputs": [],
   "source": [
    "import pandas as pd\n",
    "  \n",
    "train_data_file = \"data/zhengqi_train.txt\"\n",
    "test_data_file =  \"data/zhengqi_test.txt\"\n",
    "\n",
    "train_data = pd.read_csv(train_data_file, sep='\\t', encoding='utf-8')\n",
    "test_data = pd.read_csv(test_data_file, sep='\\t', encoding='utf-8')"
   ]
  },
  {
   "cell_type": "markdown",
   "metadata": {},
   "source": [
    "### 定义特征构造方法，构造特征"
   ]
  },
  {
   "cell_type": "code",
   "execution_count": 2,
   "metadata": {},
   "outputs": [],
   "source": [
    "epsilon=1e-5\n",
    "\n",
    "#组交叉特征，可以自行定义，如增加： x*x/y, log(x)/y 等等\n",
    "func_dict = {\n",
    "            'add': lambda x,y: x+y,\n",
    "            'mins': lambda x,y: x-y,\n",
    "            'div': lambda x,y: x/(y+epsilon),\n",
    "            'multi': lambda x,y: x*y\n",
    "            }"
   ]
  },
  {
   "cell_type": "markdown",
   "metadata": {},
   "source": [
    "### 定义特征构造的函数"
   ]
  },
  {
   "cell_type": "code",
   "execution_count": 3,
   "metadata": {},
   "outputs": [],
   "source": [
    "def auto_features_make(train_data,test_data,func_dict,col_list):\n",
    "    train_data, test_data = train_data.copy(), test_data.copy()\n",
    "    for col_i in col_list:\n",
    "        for col_j in col_list:\n",
    "            for func_name, func in func_dict.items():\n",
    "                for data in [train_data,test_data]:\n",
    "                    func_features = func(data[col_i],data[col_j])\n",
    "                    col_func_features = '-'.join([col_i,func_name,col_j])\n",
    "                    data[col_func_features] = func_features\n",
    "    return train_data,test_data"
   ]
  },
  {
   "cell_type": "markdown",
   "metadata": {},
   "source": [
    "### 对训练集和测试集数据进行特征构造"
   ]
  },
  {
   "cell_type": "code",
   "execution_count": 4,
   "metadata": {},
   "outputs": [
    {
     "name": "stderr",
     "output_type": "stream",
     "text": [
      "d:\\Anaconda\\lib\\site-packages\\ipykernel_launcher.py:9: PerformanceWarning: DataFrame is highly fragmented.  This is usually the result of calling `frame.insert` many times, which has poor performance.  Consider joining all columns at once using pd.concat(axis=1) instead.  To get a de-fragmented frame, use `newframe = frame.copy()`\n",
      "  if __name__ == \"__main__\":\n"
     ]
    }
   ],
   "source": [
    "train_data2, test_data2 = auto_features_make(train_data,test_data,func_dict,col_list=test_data.columns)"
   ]
  },
  {
   "cell_type": "code",
   "execution_count": 5,
   "metadata": {},
   "outputs": [
    {
     "name": "stderr",
     "output_type": "stream",
     "text": [
      "d:\\Anaconda\\lib\\site-packages\\sklearn\\base.py:493: FutureWarning: The feature names should match those that were passed during fit. Starting version 1.2, an error will be raised.\n",
      "Feature names unseen at fit time:\n",
      "- V37-multi-V37\n",
      "Feature names seen at fit time, yet now missing:\n",
      "- target\n",
      "\n",
      "  warnings.warn(message, FutureWarning)\n"
     ]
    }
   ],
   "source": [
    "from sklearn.decomposition import PCA   #主成分分析法\n",
    "\n",
    "#PCA方法降维\n",
    "pca = PCA(n_components=500)\n",
    "train_data2_pca = pca.fit_transform(train_data2.iloc[:,0:-1])\n",
    "test_data2_pca = pca.transform(test_data2)\n",
    "train_data2_pca = pd.DataFrame(train_data2_pca)\n",
    "test_data2_pca = pd.DataFrame(test_data2_pca)\n",
    "train_data2_pca['target'] = train_data2['target']"
   ]
  },
  {
   "cell_type": "code",
   "execution_count": 6,
   "metadata": {},
   "outputs": [],
   "source": [
    "X_train2 = train_data2[test_data2.columns].values\n",
    "y_train = train_data2['target']"
   ]
  },
  {
   "cell_type": "markdown",
   "metadata": {},
   "source": [
    "### 使用lightgbm模型对新构造的特征进行模型训练和评估"
   ]
  },
  {
   "cell_type": "code",
   "execution_count": null,
   "metadata": {},
   "outputs": [
    {
     "name": "stderr",
     "output_type": "stream",
     "text": [
      "d:\\Anaconda\\lib\\site-packages\\lightgbm\\sklearn.py:726: UserWarning: 'early_stopping_rounds' argument is deprecated and will be removed in a future release of LightGBM. Pass 'early_stopping()' callback via 'callbacks' argument instead.\n",
      "  _log_warning(\"'early_stopping_rounds' argument is deprecated and will be removed in a future release of LightGBM. \"\n",
      "d:\\Anaconda\\lib\\site-packages\\lightgbm\\sklearn.py:736: UserWarning: 'verbose' argument is deprecated and will be removed in a future release of LightGBM. Pass 'log_evaluation()' callback via 'callbacks' argument instead.\n",
      "  _log_warning(\"'verbose' argument is deprecated and will be removed in a future release of LightGBM. \"\n"
     ]
    },
    {
     "name": "stdout",
     "output_type": "stream",
     "text": [
      "[50]\tTrain's l2: 0.418976\tTest's l2: 0.105755\n",
      "[100]\tTrain's l2: 0.203665\tTest's l2: 0.0242962\n",
      "[150]\tTrain's l2: 0.114456\tTest's l2: 0.00489616\n",
      "[200]\tTrain's l2: 0.0741974\tTest's l2: 2.93437e-07\n",
      "[250]\tTrain's l2: 0.0535211\tTest's l2: 0.000800416\n",
      "第0折 训练和预测 训练MSE 预测MSE\n",
      "------\n",
      " 训练MSE\n",
      " 0.07475946684347008 \n",
      "------\n",
      "------\n",
      " 预测MSE\n",
      " 3.306387977686079e-08 \n",
      "------\n",
      "\n"
     ]
    },
    {
     "name": "stderr",
     "output_type": "stream",
     "text": [
      "d:\\Anaconda\\lib\\site-packages\\lightgbm\\sklearn.py:726: UserWarning: 'early_stopping_rounds' argument is deprecated and will be removed in a future release of LightGBM. Pass 'early_stopping()' callback via 'callbacks' argument instead.\n",
      "  _log_warning(\"'early_stopping_rounds' argument is deprecated and will be removed in a future release of LightGBM. \"\n",
      "d:\\Anaconda\\lib\\site-packages\\lightgbm\\sklearn.py:736: UserWarning: 'verbose' argument is deprecated and will be removed in a future release of LightGBM. Pass 'log_evaluation()' callback via 'callbacks' argument instead.\n",
      "  _log_warning(\"'verbose' argument is deprecated and will be removed in a future release of LightGBM. \"\n"
     ]
    },
    {
     "name": "stdout",
     "output_type": "stream",
     "text": [
      "[50]\tTrain's l2: 0.419015\tTest's l2: 0.140632\n",
      "[100]\tTrain's l2: 0.203691\tTest's l2: 0.0985215\n",
      "[150]\tTrain's l2: 0.114536\tTest's l2: 0.079759\n",
      "[200]\tTrain's l2: 0.074307\tTest's l2: 0.0605385\n",
      "[250]\tTrain's l2: 0.0536499\tTest's l2: 0.0513692\n",
      "[300]\tTrain's l2: 0.0416162\tTest's l2: 0.049854\n",
      "[350]\tTrain's l2: 0.0335032\tTest's l2: 0.0429859\n",
      "[400]\tTrain's l2: 0.0276629\tTest's l2: 0.0404468\n",
      "[450]\tTrain's l2: 0.0231634\tTest's l2: 0.0412943\n",
      "[500]\tTrain's l2: 0.0195293\tTest's l2: 0.0397455\n",
      "[550]\tTrain's l2: 0.0165658\tTest's l2: 0.0393974\n",
      "[600]\tTrain's l2: 0.0141633\tTest's l2: 0.0407649\n",
      "第1折 训练和预测 训练MSE 预测MSE\n",
      "------\n",
      " 训练MSE\n",
      " 0.01672784298833254 \n",
      "------\n",
      "------\n",
      " 预测MSE\n",
      " 0.03935054336279483 \n",
      "------\n",
      "\n"
     ]
    },
    {
     "name": "stderr",
     "output_type": "stream",
     "text": [
      "d:\\Anaconda\\lib\\site-packages\\lightgbm\\sklearn.py:726: UserWarning: 'early_stopping_rounds' argument is deprecated and will be removed in a future release of LightGBM. Pass 'early_stopping()' callback via 'callbacks' argument instead.\n",
      "  _log_warning(\"'early_stopping_rounds' argument is deprecated and will be removed in a future release of LightGBM. \"\n",
      "d:\\Anaconda\\lib\\site-packages\\lightgbm\\sklearn.py:736: UserWarning: 'verbose' argument is deprecated and will be removed in a future release of LightGBM. Pass 'log_evaluation()' callback via 'callbacks' argument instead.\n",
      "  _log_warning(\"'verbose' argument is deprecated and will be removed in a future release of LightGBM. \"\n"
     ]
    },
    {
     "name": "stdout",
     "output_type": "stream",
     "text": [
      "[50]\tTrain's l2: 0.418947\tTest's l2: 0.0188852\n",
      "[100]\tTrain's l2: 0.203568\tTest's l2: 0.00100975\n",
      "[150]\tTrain's l2: 0.114468\tTest's l2: 0.00107227\n",
      "[200]\tTrain's l2: 0.0742317\tTest's l2: 0.00688086\n",
      "第2折 训练和预测 训练MSE 预测MSE\n",
      "------\n",
      " 训练MSE\n",
      " 0.15690875227032425 \n",
      "------\n",
      "------\n",
      " 预测MSE\n",
      " 5.611463906468012e-08 \n",
      "------\n",
      "\n"
     ]
    },
    {
     "name": "stderr",
     "output_type": "stream",
     "text": [
      "d:\\Anaconda\\lib\\site-packages\\lightgbm\\sklearn.py:726: UserWarning: 'early_stopping_rounds' argument is deprecated and will be removed in a future release of LightGBM. Pass 'early_stopping()' callback via 'callbacks' argument instead.\n",
      "  _log_warning(\"'early_stopping_rounds' argument is deprecated and will be removed in a future release of LightGBM. \"\n",
      "d:\\Anaconda\\lib\\site-packages\\lightgbm\\sklearn.py:736: UserWarning: 'verbose' argument is deprecated and will be removed in a future release of LightGBM. Pass 'log_evaluation()' callback via 'callbacks' argument instead.\n",
      "  _log_warning(\"'verbose' argument is deprecated and will be removed in a future release of LightGBM. \"\n"
     ]
    },
    {
     "name": "stdout",
     "output_type": "stream",
     "text": [
      "[50]\tTrain's l2: 0.41899\tTest's l2: 0.193962\n",
      "[100]\tTrain's l2: 0.203864\tTest's l2: 0.0695358\n",
      "[150]\tTrain's l2: 0.114674\tTest's l2: 0.0277131\n",
      "[200]\tTrain's l2: 0.0744482\tTest's l2: 0.0140802\n",
      "[250]\tTrain's l2: 0.0536803\tTest's l2: 0.00457946\n",
      "[300]\tTrain's l2: 0.0416071\tTest's l2: 0.000561737\n",
      "[350]\tTrain's l2: 0.0334907\tTest's l2: 5.71213e-06\n",
      "[400]\tTrain's l2: 0.0276055\tTest's l2: 0.000415383\n",
      "第3折 训练和预测 训练MSE 预测MSE\n",
      "------\n",
      " 训练MSE\n",
      " 0.03533201196066011 \n",
      "------\n",
      "------\n",
      " 预测MSE\n",
      " 1.0083048983817551e-06 \n",
      "------\n",
      "\n"
     ]
    },
    {
     "name": "stderr",
     "output_type": "stream",
     "text": [
      "d:\\Anaconda\\lib\\site-packages\\lightgbm\\sklearn.py:726: UserWarning: 'early_stopping_rounds' argument is deprecated and will be removed in a future release of LightGBM. Pass 'early_stopping()' callback via 'callbacks' argument instead.\n",
      "  _log_warning(\"'early_stopping_rounds' argument is deprecated and will be removed in a future release of LightGBM. \"\n",
      "d:\\Anaconda\\lib\\site-packages\\lightgbm\\sklearn.py:736: UserWarning: 'verbose' argument is deprecated and will be removed in a future release of LightGBM. Pass 'log_evaluation()' callback via 'callbacks' argument instead.\n",
      "  _log_warning(\"'verbose' argument is deprecated and will be removed in a future release of LightGBM. \"\n"
     ]
    },
    {
     "name": "stdout",
     "output_type": "stream",
     "text": [
      "[50]\tTrain's l2: 0.418819\tTest's l2: 0.159919\n",
      "[100]\tTrain's l2: 0.203548\tTest's l2: 0.0760221\n",
      "[150]\tTrain's l2: 0.114445\tTest's l2: 0.0471659\n",
      "[200]\tTrain's l2: 0.0742303\tTest's l2: 0.0327988\n",
      "[250]\tTrain's l2: 0.0535198\tTest's l2: 0.0245416\n",
      "[300]\tTrain's l2: 0.0414231\tTest's l2: 0.0224708\n",
      "[350]\tTrain's l2: 0.0333567\tTest's l2: 0.0180571\n",
      "[400]\tTrain's l2: 0.0275814\tTest's l2: 0.019877\n",
      "[450]\tTrain's l2: 0.0231131\tTest's l2: 0.0220159\n",
      "第4折 训练和预测 训练MSE 预测MSE\n",
      "------\n",
      " 训练MSE\n",
      " 0.03179678613338918 \n",
      "------\n",
      "------\n",
      " 预测MSE\n",
      " 0.01758442125350803 \n",
      "------\n",
      "\n"
     ]
    },
    {
     "name": "stderr",
     "output_type": "stream",
     "text": [
      "d:\\Anaconda\\lib\\site-packages\\lightgbm\\sklearn.py:726: UserWarning: 'early_stopping_rounds' argument is deprecated and will be removed in a future release of LightGBM. Pass 'early_stopping()' callback via 'callbacks' argument instead.\n",
      "  _log_warning(\"'early_stopping_rounds' argument is deprecated and will be removed in a future release of LightGBM. \"\n",
      "d:\\Anaconda\\lib\\site-packages\\lightgbm\\sklearn.py:736: UserWarning: 'verbose' argument is deprecated and will be removed in a future release of LightGBM. Pass 'log_evaluation()' callback via 'callbacks' argument instead.\n",
      "  _log_warning(\"'verbose' argument is deprecated and will be removed in a future release of LightGBM. \"\n"
     ]
    },
    {
     "name": "stdout",
     "output_type": "stream",
     "text": [
      "[50]\tTrain's l2: 0.419068\tTest's l2: 0.00376511\n",
      "[100]\tTrain's l2: 0.203825\tTest's l2: 0.000139612\n",
      "[150]\tTrain's l2: 0.114677\tTest's l2: 0.00221127\n",
      "第5折 训练和预测 训练MSE 预测MSE\n",
      "------\n",
      " 训练MSE\n",
      " 0.22973610045831822 \n",
      "------\n",
      "------\n",
      " 预测MSE\n",
      " 8.3928071866396e-07 \n",
      "------\n",
      "\n"
     ]
    },
    {
     "name": "stderr",
     "output_type": "stream",
     "text": [
      "d:\\Anaconda\\lib\\site-packages\\lightgbm\\sklearn.py:726: UserWarning: 'early_stopping_rounds' argument is deprecated and will be removed in a future release of LightGBM. Pass 'early_stopping()' callback via 'callbacks' argument instead.\n",
      "  _log_warning(\"'early_stopping_rounds' argument is deprecated and will be removed in a future release of LightGBM. \"\n",
      "d:\\Anaconda\\lib\\site-packages\\lightgbm\\sklearn.py:736: UserWarning: 'verbose' argument is deprecated and will be removed in a future release of LightGBM. Pass 'log_evaluation()' callback via 'callbacks' argument instead.\n",
      "  _log_warning(\"'verbose' argument is deprecated and will be removed in a future release of LightGBM. \"\n"
     ]
    },
    {
     "name": "stdout",
     "output_type": "stream",
     "text": [
      "[50]\tTrain's l2: 0.418553\tTest's l2: 1.33664\n",
      "[100]\tTrain's l2: 0.20356\tTest's l2: 0.593563\n",
      "[150]\tTrain's l2: 0.114538\tTest's l2: 0.291945\n",
      "[200]\tTrain's l2: 0.0742104\tTest's l2: 0.154165\n",
      "[250]\tTrain's l2: 0.0535458\tTest's l2: 0.0840137\n",
      "[300]\tTrain's l2: 0.0414856\tTest's l2: 0.0505137\n",
      "[350]\tTrain's l2: 0.0333671\tTest's l2: 0.0389641\n",
      "[400]\tTrain's l2: 0.0274927\tTest's l2: 0.0282909\n",
      "[450]\tTrain's l2: 0.0230405\tTest's l2: 0.0238994\n",
      "[500]\tTrain's l2: 0.0194298\tTest's l2: 0.0232937\n",
      "[550]\tTrain's l2: 0.016478\tTest's l2: 0.0212104\n",
      "[600]\tTrain's l2: 0.0140918\tTest's l2: 0.0173329\n",
      "[650]\tTrain's l2: 0.0121263\tTest's l2: 0.0158925\n",
      "[700]\tTrain's l2: 0.0104849\tTest's l2: 0.0150482\n",
      "[750]\tTrain's l2: 0.00911054\tTest's l2: 0.0152969\n",
      "第6折 训练和预测 训练MSE 预测MSE\n",
      "------\n",
      " 训练MSE\n",
      " 0.010544990848799307 \n",
      "------\n",
      "------\n",
      " 预测MSE\n",
      " 0.015001785134157784 \n",
      "------\n",
      "\n"
     ]
    },
    {
     "name": "stderr",
     "output_type": "stream",
     "text": [
      "d:\\Anaconda\\lib\\site-packages\\lightgbm\\sklearn.py:726: UserWarning: 'early_stopping_rounds' argument is deprecated and will be removed in a future release of LightGBM. Pass 'early_stopping()' callback via 'callbacks' argument instead.\n",
      "  _log_warning(\"'early_stopping_rounds' argument is deprecated and will be removed in a future release of LightGBM. \"\n",
      "d:\\Anaconda\\lib\\site-packages\\lightgbm\\sklearn.py:736: UserWarning: 'verbose' argument is deprecated and will be removed in a future release of LightGBM. Pass 'log_evaluation()' callback via 'callbacks' argument instead.\n",
      "  _log_warning(\"'verbose' argument is deprecated and will be removed in a future release of LightGBM. \"\n"
     ]
    },
    {
     "name": "stdout",
     "output_type": "stream",
     "text": [
      "[50]\tTrain's l2: 0.418867\tTest's l2: 0.177295\n",
      "[100]\tTrain's l2: 0.20364\tTest's l2: 0.0421716\n",
      "[150]\tTrain's l2: 0.114486\tTest's l2: 0.00437618\n",
      "[200]\tTrain's l2: 0.07424\tTest's l2: 0.000285364\n",
      "[250]\tTrain's l2: 0.0535354\tTest's l2: 0.00643583\n",
      "第7折 训练和预测 训练MSE 预测MSE\n",
      "------\n",
      " 训练MSE\n",
      " 0.08144304541375287 \n",
      "------\n",
      "------\n",
      " 预测MSE\n",
      " 8.824090263093309e-10 \n",
      "------\n",
      "\n"
     ]
    },
    {
     "name": "stderr",
     "output_type": "stream",
     "text": [
      "d:\\Anaconda\\lib\\site-packages\\lightgbm\\sklearn.py:726: UserWarning: 'early_stopping_rounds' argument is deprecated and will be removed in a future release of LightGBM. Pass 'early_stopping()' callback via 'callbacks' argument instead.\n",
      "  _log_warning(\"'early_stopping_rounds' argument is deprecated and will be removed in a future release of LightGBM. \"\n",
      "d:\\Anaconda\\lib\\site-packages\\lightgbm\\sklearn.py:736: UserWarning: 'verbose' argument is deprecated and will be removed in a future release of LightGBM. Pass 'log_evaluation()' callback via 'callbacks' argument instead.\n",
      "  _log_warning(\"'verbose' argument is deprecated and will be removed in a future release of LightGBM. \"\n"
     ]
    },
    {
     "name": "stdout",
     "output_type": "stream",
     "text": [
      "[50]\tTrain's l2: 0.418962\tTest's l2: 0.293013\n",
      "[100]\tTrain's l2: 0.203771\tTest's l2: 0.191966\n",
      "[150]\tTrain's l2: 0.114611\tTest's l2: 0.13172\n",
      "[200]\tTrain's l2: 0.0743145\tTest's l2: 0.0882778\n",
      "[250]\tTrain's l2: 0.0535902\tTest's l2: 0.0658243\n",
      "[300]\tTrain's l2: 0.0414907\tTest's l2: 0.0527119\n",
      "[350]\tTrain's l2: 0.0334103\tTest's l2: 0.0433898\n",
      "[400]\tTrain's l2: 0.0275633\tTest's l2: 0.039266\n",
      "[450]\tTrain's l2: 0.0230627\tTest's l2: 0.0375582\n",
      "[500]\tTrain's l2: 0.0194333\tTest's l2: 0.0344022\n",
      "[550]\tTrain's l2: 0.0164686\tTest's l2: 0.0353841\n",
      "[600]\tTrain's l2: 0.0140851\tTest's l2: 0.0336191\n",
      "[650]\tTrain's l2: 0.0121325\tTest's l2: 0.0334945\n",
      "[700]\tTrain's l2: 0.0105084\tTest's l2: 0.0310433\n",
      "[750]\tTrain's l2: 0.00913884\tTest's l2: 0.0295955\n",
      "[800]\tTrain's l2: 0.00796443\tTest's l2: 0.0272034\n",
      "[850]\tTrain's l2: 0.00694732\tTest's l2: 0.0258476\n",
      "[900]\tTrain's l2: 0.00606858\tTest's l2: 0.0254355\n",
      "[950]\tTrain's l2: 0.00532056\tTest's l2: 0.0245711\n",
      "[1000]\tTrain's l2: 0.00467931\tTest's l2: 0.0233079\n",
      "[1050]\tTrain's l2: 0.00412358\tTest's l2: 0.0234233\n",
      "[1100]\tTrain's l2: 0.00363677\tTest's l2: 0.0232043\n",
      "第8折 训练和预测 训练MSE 预测MSE\n",
      "------\n",
      " 训练MSE\n",
      " 0.004230016507874263 \n",
      "------\n",
      "------\n",
      " 预测MSE\n",
      " 0.022995921763192623 \n",
      "------\n",
      "\n"
     ]
    },
    {
     "name": "stderr",
     "output_type": "stream",
     "text": [
      "d:\\Anaconda\\lib\\site-packages\\lightgbm\\sklearn.py:726: UserWarning: 'early_stopping_rounds' argument is deprecated and will be removed in a future release of LightGBM. Pass 'early_stopping()' callback via 'callbacks' argument instead.\n",
      "  _log_warning(\"'early_stopping_rounds' argument is deprecated and will be removed in a future release of LightGBM. \"\n",
      "d:\\Anaconda\\lib\\site-packages\\lightgbm\\sklearn.py:736: UserWarning: 'verbose' argument is deprecated and will be removed in a future release of LightGBM. Pass 'log_evaluation()' callback via 'callbacks' argument instead.\n",
      "  _log_warning(\"'verbose' argument is deprecated and will be removed in a future release of LightGBM. \"\n"
     ]
    },
    {
     "name": "stdout",
     "output_type": "stream",
     "text": [
      "[50]\tTrain's l2: 0.419036\tTest's l2: 0.00239799\n",
      "[100]\tTrain's l2: 0.203813\tTest's l2: 0.00268442\n",
      "[150]\tTrain's l2: 0.114609\tTest's l2: 0.00743749\n",
      "第9折 训练和预测 训练MSE 预测MSE\n",
      "------\n",
      " 训练MSE\n",
      " 0.3045285904844979 \n",
      "------\n",
      "------\n",
      " 预测MSE\n",
      " 1.1470940338059348e-06 \n",
      "------\n",
      "\n"
     ]
    },
    {
     "name": "stderr",
     "output_type": "stream",
     "text": [
      "d:\\Anaconda\\lib\\site-packages\\lightgbm\\sklearn.py:726: UserWarning: 'early_stopping_rounds' argument is deprecated and will be removed in a future release of LightGBM. Pass 'early_stopping()' callback via 'callbacks' argument instead.\n",
      "  _log_warning(\"'early_stopping_rounds' argument is deprecated and will be removed in a future release of LightGBM. \"\n",
      "d:\\Anaconda\\lib\\site-packages\\lightgbm\\sklearn.py:736: UserWarning: 'verbose' argument is deprecated and will be removed in a future release of LightGBM. Pass 'log_evaluation()' callback via 'callbacks' argument instead.\n",
      "  _log_warning(\"'verbose' argument is deprecated and will be removed in a future release of LightGBM. \"\n"
     ]
    },
    {
     "name": "stdout",
     "output_type": "stream",
     "text": [
      "[50]\tTrain's l2: 0.418998\tTest's l2: 0.0606575\n",
      "[100]\tTrain's l2: 0.203724\tTest's l2: 0.0116961\n",
      "[150]\tTrain's l2: 0.114534\tTest's l2: 0.00114861\n",
      "[200]\tTrain's l2: 0.0743235\tTest's l2: 5.64438e-05\n",
      "[250]\tTrain's l2: 0.0536156\tTest's l2: 1.94712e-05\n",
      "[300]\tTrain's l2: 0.0415416\tTest's l2: 0.000264356\n",
      "第10折 训练和预测 训练MSE 预测MSE\n",
      "------\n",
      " 训练MSE\n",
      " 0.06774135627605922 \n",
      "------\n",
      "------\n",
      " 预测MSE\n",
      " 1.0860688773015748e-09 \n",
      "------\n",
      "\n"
     ]
    },
    {
     "name": "stderr",
     "output_type": "stream",
     "text": [
      "d:\\Anaconda\\lib\\site-packages\\lightgbm\\sklearn.py:726: UserWarning: 'early_stopping_rounds' argument is deprecated and will be removed in a future release of LightGBM. Pass 'early_stopping()' callback via 'callbacks' argument instead.\n",
      "  _log_warning(\"'early_stopping_rounds' argument is deprecated and will be removed in a future release of LightGBM. \"\n",
      "d:\\Anaconda\\lib\\site-packages\\lightgbm\\sklearn.py:736: UserWarning: 'verbose' argument is deprecated and will be removed in a future release of LightGBM. Pass 'log_evaluation()' callback via 'callbacks' argument instead.\n",
      "  _log_warning(\"'verbose' argument is deprecated and will be removed in a future release of LightGBM. \"\n"
     ]
    },
    {
     "name": "stdout",
     "output_type": "stream",
     "text": [
      "[50]\tTrain's l2: 0.418588\tTest's l2: 1.37381\n",
      "[100]\tTrain's l2: 0.203524\tTest's l2: 0.690864\n",
      "[150]\tTrain's l2: 0.114436\tTest's l2: 0.346181\n",
      "[200]\tTrain's l2: 0.0742317\tTest's l2: 0.189493\n",
      "[250]\tTrain's l2: 0.0536249\tTest's l2: 0.110866\n",
      "[300]\tTrain's l2: 0.0414749\tTest's l2: 0.069934\n",
      "[350]\tTrain's l2: 0.0333309\tTest's l2: 0.0494729\n",
      "[400]\tTrain's l2: 0.027505\tTest's l2: 0.0348813\n",
      "[450]\tTrain's l2: 0.0230592\tTest's l2: 0.027173\n",
      "[500]\tTrain's l2: 0.0194485\tTest's l2: 0.0221897\n",
      "[550]\tTrain's l2: 0.0165568\tTest's l2: 0.0184528\n",
      "[600]\tTrain's l2: 0.0141469\tTest's l2: 0.0179586\n",
      "[650]\tTrain's l2: 0.0121837\tTest's l2: 0.0162747\n",
      "[700]\tTrain's l2: 0.010531\tTest's l2: 0.0157988\n",
      "[750]\tTrain's l2: 0.00912577\tTest's l2: 0.0153905\n",
      "[800]\tTrain's l2: 0.00793775\tTest's l2: 0.016021\n",
      "第11折 训练和预测 训练MSE 预测MSE\n",
      "------\n",
      " 训练MSE\n",
      " 0.009365707625869515 \n",
      "------\n",
      "------\n",
      " 预测MSE\n",
      " 0.014969987964355553 \n",
      "------\n",
      "\n"
     ]
    },
    {
     "name": "stderr",
     "output_type": "stream",
     "text": [
      "d:\\Anaconda\\lib\\site-packages\\lightgbm\\sklearn.py:726: UserWarning: 'early_stopping_rounds' argument is deprecated and will be removed in a future release of LightGBM. Pass 'early_stopping()' callback via 'callbacks' argument instead.\n",
      "  _log_warning(\"'early_stopping_rounds' argument is deprecated and will be removed in a future release of LightGBM. \"\n",
      "d:\\Anaconda\\lib\\site-packages\\lightgbm\\sklearn.py:736: UserWarning: 'verbose' argument is deprecated and will be removed in a future release of LightGBM. Pass 'log_evaluation()' callback via 'callbacks' argument instead.\n",
      "  _log_warning(\"'verbose' argument is deprecated and will be removed in a future release of LightGBM. \"\n"
     ]
    },
    {
     "name": "stdout",
     "output_type": "stream",
     "text": [
      "[50]\tTrain's l2: 0.419045\tTest's l2: 0.097808\n",
      "[100]\tTrain's l2: 0.203876\tTest's l2: 0.0476716\n",
      "[150]\tTrain's l2: 0.114709\tTest's l2: 0.0217354\n",
      "[200]\tTrain's l2: 0.0743301\tTest's l2: 0.00727449\n",
      "[250]\tTrain's l2: 0.0536459\tTest's l2: 0.00342079\n",
      "[300]\tTrain's l2: 0.0415101\tTest's l2: 0.000914694\n",
      "[350]\tTrain's l2: 0.0334051\tTest's l2: 0.000388864\n",
      "[400]\tTrain's l2: 0.0276018\tTest's l2: 0.000330803\n",
      "[450]\tTrain's l2: 0.0231272\tTest's l2: 4.72281e-05\n",
      "[500]\tTrain's l2: 0.0194803\tTest's l2: 1.97692e-05\n",
      "[550]\tTrain's l2: 0.0165513\tTest's l2: 6.51461e-05\n",
      "第12折 训练和预测 训练MSE 预测MSE\n",
      "------\n",
      " 训练MSE\n",
      " 0.021363228053157143 \n",
      "------\n",
      "------\n",
      " 预测MSE\n",
      " 1.1479735117855689e-08 \n",
      "------\n",
      "\n"
     ]
    },
    {
     "name": "stderr",
     "output_type": "stream",
     "text": [
      "d:\\Anaconda\\lib\\site-packages\\lightgbm\\sklearn.py:726: UserWarning: 'early_stopping_rounds' argument is deprecated and will be removed in a future release of LightGBM. Pass 'early_stopping()' callback via 'callbacks' argument instead.\n",
      "  _log_warning(\"'early_stopping_rounds' argument is deprecated and will be removed in a future release of LightGBM. \"\n",
      "d:\\Anaconda\\lib\\site-packages\\lightgbm\\sklearn.py:736: UserWarning: 'verbose' argument is deprecated and will be removed in a future release of LightGBM. Pass 'log_evaluation()' callback via 'callbacks' argument instead.\n",
      "  _log_warning(\"'verbose' argument is deprecated and will be removed in a future release of LightGBM. \"\n"
     ]
    },
    {
     "name": "stdout",
     "output_type": "stream",
     "text": [
      "[50]\tTrain's l2: 0.419006\tTest's l2: 0.0167244\n",
      "[100]\tTrain's l2: 0.203678\tTest's l2: 0.0135922\n",
      "[150]\tTrain's l2: 0.114581\tTest's l2: 0.010354\n",
      "[200]\tTrain's l2: 0.0743028\tTest's l2: 0.00561155\n",
      "[250]\tTrain's l2: 0.0535818\tTest's l2: 0.00711933\n",
      "第13折 训练和预测 训练MSE 预测MSE\n",
      "------\n",
      " 训练MSE\n",
      " 0.07486015450432343 \n",
      "------\n",
      "------\n",
      " 预测MSE\n",
      " 0.0053349757657680545 \n",
      "------\n",
      "\n"
     ]
    },
    {
     "name": "stderr",
     "output_type": "stream",
     "text": [
      "d:\\Anaconda\\lib\\site-packages\\lightgbm\\sklearn.py:726: UserWarning: 'early_stopping_rounds' argument is deprecated and will be removed in a future release of LightGBM. Pass 'early_stopping()' callback via 'callbacks' argument instead.\n",
      "  _log_warning(\"'early_stopping_rounds' argument is deprecated and will be removed in a future release of LightGBM. \"\n",
      "d:\\Anaconda\\lib\\site-packages\\lightgbm\\sklearn.py:736: UserWarning: 'verbose' argument is deprecated and will be removed in a future release of LightGBM. Pass 'log_evaluation()' callback via 'callbacks' argument instead.\n",
      "  _log_warning(\"'verbose' argument is deprecated and will be removed in a future release of LightGBM. \"\n"
     ]
    },
    {
     "name": "stdout",
     "output_type": "stream",
     "text": [
      "[50]\tTrain's l2: 0.41905\tTest's l2: 0.0259043\n",
      "[100]\tTrain's l2: 0.203677\tTest's l2: 0.05788\n",
      "第14折 训练和预测 训练MSE 预测MSE\n",
      "------\n",
      " 训练MSE\n",
      " 0.9512117958443262 \n",
      "------\n",
      "------\n",
      " 预测MSE\n",
      " 0.0033614169494722975 \n",
      "------\n",
      "\n"
     ]
    },
    {
     "name": "stderr",
     "output_type": "stream",
     "text": [
      "d:\\Anaconda\\lib\\site-packages\\lightgbm\\sklearn.py:726: UserWarning: 'early_stopping_rounds' argument is deprecated and will be removed in a future release of LightGBM. Pass 'early_stopping()' callback via 'callbacks' argument instead.\n",
      "  _log_warning(\"'early_stopping_rounds' argument is deprecated and will be removed in a future release of LightGBM. \"\n",
      "d:\\Anaconda\\lib\\site-packages\\lightgbm\\sklearn.py:736: UserWarning: 'verbose' argument is deprecated and will be removed in a future release of LightGBM. Pass 'log_evaluation()' callback via 'callbacks' argument instead.\n",
      "  _log_warning(\"'verbose' argument is deprecated and will be removed in a future release of LightGBM. \"\n"
     ]
    },
    {
     "name": "stdout",
     "output_type": "stream",
     "text": [
      "[50]\tTrain's l2: 0.417997\tTest's l2: 2.6233\n",
      "[100]\tTrain's l2: 0.203311\tTest's l2: 0.953281\n",
      "[150]\tTrain's l2: 0.114422\tTest's l2: 0.367447\n",
      "[200]\tTrain's l2: 0.0741854\tTest's l2: 0.174931\n",
      "[250]\tTrain's l2: 0.0535477\tTest's l2: 0.084872\n",
      "[300]\tTrain's l2: 0.0414811\tTest's l2: 0.0489677\n",
      "[350]\tTrain's l2: 0.033334\tTest's l2: 0.0261398\n",
      "[400]\tTrain's l2: 0.0275101\tTest's l2: 0.0196824\n",
      "[450]\tTrain's l2: 0.0230275\tTest's l2: 0.0119682\n",
      "[500]\tTrain's l2: 0.0194155\tTest's l2: 0.00633378\n",
      "[550]\tTrain's l2: 0.016443\tTest's l2: 0.00380764\n",
      "[600]\tTrain's l2: 0.0140302\tTest's l2: 0.00372934\n",
      "[650]\tTrain's l2: 0.0120808\tTest's l2: 0.0035822\n",
      "第15折 训练和预测 训练MSE 预测MSE\n",
      "------\n",
      " 训练MSE\n",
      " 0.01606915797637025 \n",
      "------\n",
      "------\n",
      " 预测MSE\n",
      " 0.003129310364319631 \n",
      "------\n",
      "\n"
     ]
    },
    {
     "name": "stderr",
     "output_type": "stream",
     "text": [
      "d:\\Anaconda\\lib\\site-packages\\lightgbm\\sklearn.py:726: UserWarning: 'early_stopping_rounds' argument is deprecated and will be removed in a future release of LightGBM. Pass 'early_stopping()' callback via 'callbacks' argument instead.\n",
      "  _log_warning(\"'early_stopping_rounds' argument is deprecated and will be removed in a future release of LightGBM. \"\n",
      "d:\\Anaconda\\lib\\site-packages\\lightgbm\\sklearn.py:736: UserWarning: 'verbose' argument is deprecated and will be removed in a future release of LightGBM. Pass 'log_evaluation()' callback via 'callbacks' argument instead.\n",
      "  _log_warning(\"'verbose' argument is deprecated and will be removed in a future release of LightGBM. \"\n"
     ]
    },
    {
     "name": "stdout",
     "output_type": "stream",
     "text": [
      "[50]\tTrain's l2: 0.418345\tTest's l2: 1.97427\n",
      "[100]\tTrain's l2: 0.203341\tTest's l2: 1.17486\n",
      "[150]\tTrain's l2: 0.114403\tTest's l2: 0.715629\n",
      "[200]\tTrain's l2: 0.0743004\tTest's l2: 0.48508\n",
      "[250]\tTrain's l2: 0.0537036\tTest's l2: 0.329718\n",
      "[300]\tTrain's l2: 0.0415312\tTest's l2: 0.228379\n",
      "[350]\tTrain's l2: 0.0333408\tTest's l2: 0.190106\n",
      "[400]\tTrain's l2: 0.0275096\tTest's l2: 0.159225\n",
      "[450]\tTrain's l2: 0.0230432\tTest's l2: 0.149278\n",
      "[500]\tTrain's l2: 0.019421\tTest's l2: 0.139129\n",
      "[550]\tTrain's l2: 0.0164762\tTest's l2: 0.124128\n",
      "[600]\tTrain's l2: 0.0140842\tTest's l2: 0.114802\n",
      "[650]\tTrain's l2: 0.0121376\tTest's l2: 0.106123\n",
      "[700]\tTrain's l2: 0.0104972\tTest's l2: 0.097351\n",
      "[750]\tTrain's l2: 0.00911608\tTest's l2: 0.0926291\n",
      "[800]\tTrain's l2: 0.0079318\tTest's l2: 0.0889121\n",
      "[850]\tTrain's l2: 0.00693674\tTest's l2: 0.0876726\n",
      "[900]\tTrain's l2: 0.0060702\tTest's l2: 0.0831002\n",
      "[950]\tTrain's l2: 0.00534417\tTest's l2: 0.0794914\n",
      "[1000]\tTrain's l2: 0.00470762\tTest's l2: 0.0783593\n",
      "[1050]\tTrain's l2: 0.00415834\tTest's l2: 0.0773989\n",
      "[1100]\tTrain's l2: 0.00368297\tTest's l2: 0.075382\n",
      "[1150]\tTrain's l2: 0.00326598\tTest's l2: 0.07339\n",
      "[1200]\tTrain's l2: 0.00290401\tTest's l2: 0.0720957\n",
      "[1250]\tTrain's l2: 0.00258301\tTest's l2: 0.069012\n",
      "[1300]\tTrain's l2: 0.00230484\tTest's l2: 0.067969\n",
      "[1350]\tTrain's l2: 0.00205446\tTest's l2: 0.0661972\n",
      "[1400]\tTrain's l2: 0.001834\tTest's l2: 0.0651435\n",
      "[1450]\tTrain's l2: 0.00164366\tTest's l2: 0.0644768\n",
      "[1500]\tTrain's l2: 0.00147366\tTest's l2: 0.0647643\n",
      "第16折 训练和预测 训练MSE 预测MSE\n",
      "------\n",
      " 训练MSE\n",
      " 0.001691250351593796 \n",
      "------\n",
      "------\n",
      " 预测MSE\n",
      " 0.06432461432328443 \n",
      "------\n",
      "\n"
     ]
    },
    {
     "name": "stderr",
     "output_type": "stream",
     "text": [
      "d:\\Anaconda\\lib\\site-packages\\lightgbm\\sklearn.py:726: UserWarning: 'early_stopping_rounds' argument is deprecated and will be removed in a future release of LightGBM. Pass 'early_stopping()' callback via 'callbacks' argument instead.\n",
      "  _log_warning(\"'early_stopping_rounds' argument is deprecated and will be removed in a future release of LightGBM. \"\n",
      "d:\\Anaconda\\lib\\site-packages\\lightgbm\\sklearn.py:736: UserWarning: 'verbose' argument is deprecated and will be removed in a future release of LightGBM. Pass 'log_evaluation()' callback via 'callbacks' argument instead.\n",
      "  _log_warning(\"'verbose' argument is deprecated and will be removed in a future release of LightGBM. \"\n"
     ]
    },
    {
     "name": "stdout",
     "output_type": "stream",
     "text": [
      "[50]\tTrain's l2: 0.418985\tTest's l2: 0.159932\n",
      "[100]\tTrain's l2: 0.203624\tTest's l2: 0.180288\n",
      "第17折 训练和预测 训练MSE 预测MSE\n",
      "------\n",
      " 训练MSE\n",
      " 0.598408665817711 \n",
      "------\n",
      "------\n",
      " 预测MSE\n",
      " 0.1540314148501441 \n",
      "------\n",
      "\n"
     ]
    },
    {
     "name": "stderr",
     "output_type": "stream",
     "text": [
      "d:\\Anaconda\\lib\\site-packages\\lightgbm\\sklearn.py:726: UserWarning: 'early_stopping_rounds' argument is deprecated and will be removed in a future release of LightGBM. Pass 'early_stopping()' callback via 'callbacks' argument instead.\n",
      "  _log_warning(\"'early_stopping_rounds' argument is deprecated and will be removed in a future release of LightGBM. \"\n",
      "d:\\Anaconda\\lib\\site-packages\\lightgbm\\sklearn.py:736: UserWarning: 'verbose' argument is deprecated and will be removed in a future release of LightGBM. Pass 'log_evaluation()' callback via 'callbacks' argument instead.\n",
      "  _log_warning(\"'verbose' argument is deprecated and will be removed in a future release of LightGBM. \"\n"
     ]
    },
    {
     "name": "stdout",
     "output_type": "stream",
     "text": [
      "[50]\tTrain's l2: 0.418895\tTest's l2: 0.0228147\n",
      "[100]\tTrain's l2: 0.203639\tTest's l2: 0.0030529\n",
      "[150]\tTrain's l2: 0.114536\tTest's l2: 7.03107e-06\n",
      "[200]\tTrain's l2: 0.0742068\tTest's l2: 0.00066555\n",
      "第18折 训练和预测 训练MSE 预测MSE\n",
      "------\n",
      " 训练MSE\n",
      " 0.11928881637914478 \n",
      "------\n",
      "------\n",
      " 预测MSE\n",
      " 1.3457122437056216e-07 \n",
      "------\n",
      "\n"
     ]
    },
    {
     "name": "stderr",
     "output_type": "stream",
     "text": [
      "d:\\Anaconda\\lib\\site-packages\\lightgbm\\sklearn.py:726: UserWarning: 'early_stopping_rounds' argument is deprecated and will be removed in a future release of LightGBM. Pass 'early_stopping()' callback via 'callbacks' argument instead.\n",
      "  _log_warning(\"'early_stopping_rounds' argument is deprecated and will be removed in a future release of LightGBM. \"\n",
      "d:\\Anaconda\\lib\\site-packages\\lightgbm\\sklearn.py:736: UserWarning: 'verbose' argument is deprecated and will be removed in a future release of LightGBM. Pass 'log_evaluation()' callback via 'callbacks' argument instead.\n",
      "  _log_warning(\"'verbose' argument is deprecated and will be removed in a future release of LightGBM. \"\n"
     ]
    },
    {
     "name": "stdout",
     "output_type": "stream",
     "text": [
      "[50]\tTrain's l2: 0.419011\tTest's l2: 0.102648\n",
      "[100]\tTrain's l2: 0.203687\tTest's l2: 0.110834\n",
      "[150]\tTrain's l2: 0.114446\tTest's l2: 0.0767824\n",
      "[200]\tTrain's l2: 0.0741273\tTest's l2: 0.0684767\n",
      "[250]\tTrain's l2: 0.0535209\tTest's l2: 0.0618702\n",
      "[300]\tTrain's l2: 0.0414662\tTest's l2: 0.0467024\n",
      "[350]\tTrain's l2: 0.0333896\tTest's l2: 0.0465377\n",
      "[400]\tTrain's l2: 0.0275339\tTest's l2: 0.0487733\n",
      "第19折 训练和预测 训练MSE 预测MSE\n",
      "------\n",
      " 训练MSE\n",
      " 0.03942844430557029 \n",
      "------\n",
      "------\n",
      " 预测MSE\n",
      " 0.04408808877085342 \n",
      "------\n",
      "\n"
     ]
    },
    {
     "name": "stderr",
     "output_type": "stream",
     "text": [
      "d:\\Anaconda\\lib\\site-packages\\lightgbm\\sklearn.py:726: UserWarning: 'early_stopping_rounds' argument is deprecated and will be removed in a future release of LightGBM. Pass 'early_stopping()' callback via 'callbacks' argument instead.\n",
      "  _log_warning(\"'early_stopping_rounds' argument is deprecated and will be removed in a future release of LightGBM. \"\n",
      "d:\\Anaconda\\lib\\site-packages\\lightgbm\\sklearn.py:736: UserWarning: 'verbose' argument is deprecated and will be removed in a future release of LightGBM. Pass 'log_evaluation()' callback via 'callbacks' argument instead.\n",
      "  _log_warning(\"'verbose' argument is deprecated and will be removed in a future release of LightGBM. \"\n"
     ]
    },
    {
     "name": "stdout",
     "output_type": "stream",
     "text": [
      "[50]\tTrain's l2: 0.418682\tTest's l2: 0.887251\n",
      "[100]\tTrain's l2: 0.203544\tTest's l2: 0.399085\n",
      "[150]\tTrain's l2: 0.114397\tTest's l2: 0.178412\n",
      "[200]\tTrain's l2: 0.0742163\tTest's l2: 0.0883592\n",
      "[250]\tTrain's l2: 0.0535723\tTest's l2: 0.050775\n",
      "[300]\tTrain's l2: 0.0414642\tTest's l2: 0.0316489\n",
      "[350]\tTrain's l2: 0.0334164\tTest's l2: 0.0190467\n",
      "[400]\tTrain's l2: 0.0275216\tTest's l2: 0.0123161\n",
      "[450]\tTrain's l2: 0.0230746\tTest's l2: 0.00857246\n",
      "[500]\tTrain's l2: 0.0194715\tTest's l2: 0.00756381\n",
      "[550]\tTrain's l2: 0.0165508\tTest's l2: 0.00465872\n",
      "[600]\tTrain's l2: 0.0141975\tTest's l2: 0.00303928\n",
      "[650]\tTrain's l2: 0.0122096\tTest's l2: 0.00213325\n",
      "[700]\tTrain's l2: 0.0105698\tTest's l2: 0.00164455\n",
      "[750]\tTrain's l2: 0.00916274\tTest's l2: 0.00118621\n",
      "[800]\tTrain's l2: 0.00798829\tTest's l2: 0.000798988\n",
      "[850]\tTrain's l2: 0.00698512\tTest's l2: 0.000731094\n",
      "[900]\tTrain's l2: 0.00613217\tTest's l2: 0.000678491\n",
      "[950]\tTrain's l2: 0.00538641\tTest's l2: 0.000588114\n",
      "[1000]\tTrain's l2: 0.00473489\tTest's l2: 0.000519298\n",
      "[1050]\tTrain's l2: 0.00417274\tTest's l2: 0.000374217\n",
      "[1100]\tTrain's l2: 0.00369287\tTest's l2: 0.000271074\n",
      "[1150]\tTrain's l2: 0.0032665\tTest's l2: 0.000229724\n",
      "[1200]\tTrain's l2: 0.00290302\tTest's l2: 0.000165388\n",
      "[1250]\tTrain's l2: 0.00258268\tTest's l2: 0.000164258\n",
      "[1300]\tTrain's l2: 0.00230364\tTest's l2: 0.000133303\n",
      "[1350]\tTrain's l2: 0.00205188\tTest's l2: 0.000122791\n",
      "[1400]\tTrain's l2: 0.00183141\tTest's l2: 0.000153467\n",
      "第20折 训练和预测 训练MSE 预测MSE\n",
      "------\n",
      " 训练MSE\n",
      " 0.0021485188018188326 \n",
      "------\n",
      "------\n",
      " 预测MSE\n",
      " 0.00010375082381078015 \n",
      "------\n",
      "\n"
     ]
    },
    {
     "name": "stderr",
     "output_type": "stream",
     "text": [
      "d:\\Anaconda\\lib\\site-packages\\lightgbm\\sklearn.py:726: UserWarning: 'early_stopping_rounds' argument is deprecated and will be removed in a future release of LightGBM. Pass 'early_stopping()' callback via 'callbacks' argument instead.\n",
      "  _log_warning(\"'early_stopping_rounds' argument is deprecated and will be removed in a future release of LightGBM. \"\n",
      "d:\\Anaconda\\lib\\site-packages\\lightgbm\\sklearn.py:736: UserWarning: 'verbose' argument is deprecated and will be removed in a future release of LightGBM. Pass 'log_evaluation()' callback via 'callbacks' argument instead.\n",
      "  _log_warning(\"'verbose' argument is deprecated and will be removed in a future release of LightGBM. \"\n"
     ]
    },
    {
     "name": "stdout",
     "output_type": "stream",
     "text": [
      "[50]\tTrain's l2: 0.419044\tTest's l2: 0.00225495\n",
      "[100]\tTrain's l2: 0.203723\tTest's l2: 0.00697722\n",
      "第21折 训练和预测 训练MSE 预测MSE\n",
      "------\n",
      " 训练MSE\n",
      " 0.6963551415171719 \n",
      "------\n",
      "------\n",
      " 预测MSE\n",
      " 0.00022718615098842322 \n",
      "------\n",
      "\n"
     ]
    },
    {
     "name": "stderr",
     "output_type": "stream",
     "text": [
      "d:\\Anaconda\\lib\\site-packages\\lightgbm\\sklearn.py:726: UserWarning: 'early_stopping_rounds' argument is deprecated and will be removed in a future release of LightGBM. Pass 'early_stopping()' callback via 'callbacks' argument instead.\n",
      "  _log_warning(\"'early_stopping_rounds' argument is deprecated and will be removed in a future release of LightGBM. \"\n",
      "d:\\Anaconda\\lib\\site-packages\\lightgbm\\sklearn.py:736: UserWarning: 'verbose' argument is deprecated and will be removed in a future release of LightGBM. Pass 'log_evaluation()' callback via 'callbacks' argument instead.\n",
      "  _log_warning(\"'verbose' argument is deprecated and will be removed in a future release of LightGBM. \"\n"
     ]
    },
    {
     "name": "stdout",
     "output_type": "stream",
     "text": [
      "[50]\tTrain's l2: 0.418896\tTest's l2: 0.132942\n",
      "[100]\tTrain's l2: 0.203585\tTest's l2: 0.0640139\n",
      "[150]\tTrain's l2: 0.114407\tTest's l2: 0.0372986\n",
      "[200]\tTrain's l2: 0.0741228\tTest's l2: 0.0210578\n",
      "[250]\tTrain's l2: 0.0534323\tTest's l2: 0.0159583\n",
      "[300]\tTrain's l2: 0.0413834\tTest's l2: 0.0162243\n",
      "[350]\tTrain's l2: 0.0333003\tTest's l2: 0.0223327\n",
      "第22折 训练和预测 训练MSE 预测MSE\n",
      "------\n",
      " 训练MSE\n",
      " 0.05081657768118204 \n",
      "------\n",
      "------\n",
      " 预测MSE\n",
      " 0.014877617179682922 \n",
      "------\n",
      "\n"
     ]
    },
    {
     "name": "stderr",
     "output_type": "stream",
     "text": [
      "d:\\Anaconda\\lib\\site-packages\\lightgbm\\sklearn.py:726: UserWarning: 'early_stopping_rounds' argument is deprecated and will be removed in a future release of LightGBM. Pass 'early_stopping()' callback via 'callbacks' argument instead.\n",
      "  _log_warning(\"'early_stopping_rounds' argument is deprecated and will be removed in a future release of LightGBM. \"\n",
      "d:\\Anaconda\\lib\\site-packages\\lightgbm\\sklearn.py:736: UserWarning: 'verbose' argument is deprecated and will be removed in a future release of LightGBM. Pass 'log_evaluation()' callback via 'callbacks' argument instead.\n",
      "  _log_warning(\"'verbose' argument is deprecated and will be removed in a future release of LightGBM. \"\n"
     ]
    },
    {
     "name": "stdout",
     "output_type": "stream",
     "text": [
      "[50]\tTrain's l2: 0.418947\tTest's l2: 0.0193329\n",
      "[100]\tTrain's l2: 0.203666\tTest's l2: 0.0145756\n",
      "[150]\tTrain's l2: 0.11451\tTest's l2: 0.00108674\n",
      "[200]\tTrain's l2: 0.0743262\tTest's l2: 0.0040723\n",
      "[250]\tTrain's l2: 0.0536434\tTest's l2: 0.0160333\n",
      "第23折 训练和预测 训练MSE 预测MSE\n",
      "------\n",
      " 训练MSE\n",
      " 0.0982784845306778 \n",
      "------\n",
      "------\n",
      " 预测MSE\n",
      " 2.973757296419554e-07 \n",
      "------\n",
      "\n"
     ]
    },
    {
     "name": "stderr",
     "output_type": "stream",
     "text": [
      "d:\\Anaconda\\lib\\site-packages\\lightgbm\\sklearn.py:726: UserWarning: 'early_stopping_rounds' argument is deprecated and will be removed in a future release of LightGBM. Pass 'early_stopping()' callback via 'callbacks' argument instead.\n",
      "  _log_warning(\"'early_stopping_rounds' argument is deprecated and will be removed in a future release of LightGBM. \"\n",
      "d:\\Anaconda\\lib\\site-packages\\lightgbm\\sklearn.py:736: UserWarning: 'verbose' argument is deprecated and will be removed in a future release of LightGBM. Pass 'log_evaluation()' callback via 'callbacks' argument instead.\n",
      "  _log_warning(\"'verbose' argument is deprecated and will be removed in a future release of LightGBM. \"\n"
     ]
    },
    {
     "name": "stdout",
     "output_type": "stream",
     "text": [
      "[50]\tTrain's l2: 0.41895\tTest's l2: 0.390101\n",
      "[100]\tTrain's l2: 0.203691\tTest's l2: 0.215401\n",
      "[150]\tTrain's l2: 0.114491\tTest's l2: 0.143047\n",
      "[200]\tTrain's l2: 0.0741461\tTest's l2: 0.0992432\n",
      "[250]\tTrain's l2: 0.0535279\tTest's l2: 0.0742296\n",
      "[300]\tTrain's l2: 0.041408\tTest's l2: 0.0592328\n",
      "[350]\tTrain's l2: 0.0333591\tTest's l2: 0.0470125\n",
      "[400]\tTrain's l2: 0.0274965\tTest's l2: 0.0364706\n",
      "[450]\tTrain's l2: 0.0230109\tTest's l2: 0.0308877\n",
      "[500]\tTrain's l2: 0.0193837\tTest's l2: 0.0301554\n",
      "[550]\tTrain's l2: 0.0164554\tTest's l2: 0.0284144\n",
      "第24折 训练和预测 训练MSE 预测MSE\n",
      "------\n",
      " 训练MSE\n",
      " 0.02053821505672746 \n",
      "------\n",
      "------\n",
      " 预测MSE\n",
      " 0.02780972377751253 \n",
      "------\n",
      "\n"
     ]
    },
    {
     "name": "stderr",
     "output_type": "stream",
     "text": [
      "d:\\Anaconda\\lib\\site-packages\\lightgbm\\sklearn.py:726: UserWarning: 'early_stopping_rounds' argument is deprecated and will be removed in a future release of LightGBM. Pass 'early_stopping()' callback via 'callbacks' argument instead.\n",
      "  _log_warning(\"'early_stopping_rounds' argument is deprecated and will be removed in a future release of LightGBM. \"\n",
      "d:\\Anaconda\\lib\\site-packages\\lightgbm\\sklearn.py:736: UserWarning: 'verbose' argument is deprecated and will be removed in a future release of LightGBM. Pass 'log_evaluation()' callback via 'callbacks' argument instead.\n",
      "  _log_warning(\"'verbose' argument is deprecated and will be removed in a future release of LightGBM. \"\n"
     ]
    },
    {
     "name": "stdout",
     "output_type": "stream",
     "text": [
      "[50]\tTrain's l2: 0.418969\tTest's l2: 0.0488661\n",
      "[100]\tTrain's l2: 0.203749\tTest's l2: 0.114015\n",
      "第25折 训练和预测 训练MSE 预测MSE\n",
      "------\n",
      " 训练MSE\n",
      " 0.951219744452152 \n",
      "------\n",
      "------\n",
      " 预测MSE\n",
      " 0.010616336510140843 \n",
      "------\n",
      "\n"
     ]
    },
    {
     "name": "stderr",
     "output_type": "stream",
     "text": [
      "d:\\Anaconda\\lib\\site-packages\\lightgbm\\sklearn.py:726: UserWarning: 'early_stopping_rounds' argument is deprecated and will be removed in a future release of LightGBM. Pass 'early_stopping()' callback via 'callbacks' argument instead.\n",
      "  _log_warning(\"'early_stopping_rounds' argument is deprecated and will be removed in a future release of LightGBM. \"\n",
      "d:\\Anaconda\\lib\\site-packages\\lightgbm\\sklearn.py:736: UserWarning: 'verbose' argument is deprecated and will be removed in a future release of LightGBM. Pass 'log_evaluation()' callback via 'callbacks' argument instead.\n",
      "  _log_warning(\"'verbose' argument is deprecated and will be removed in a future release of LightGBM. \"\n"
     ]
    },
    {
     "name": "stdout",
     "output_type": "stream",
     "text": [
      "[50]\tTrain's l2: 0.418894\tTest's l2: 0.162979\n",
      "[100]\tTrain's l2: 0.203635\tTest's l2: 0.0373693\n",
      "[150]\tTrain's l2: 0.114428\tTest's l2: 0.0039264\n",
      "[200]\tTrain's l2: 0.074223\tTest's l2: 0.000555116\n"
     ]
    }
   ],
   "source": [
    "# ls_validation i\n",
    "from sklearn.model_selection import KFold\n",
    "from sklearn.metrics import mean_squared_error\n",
    "import lightgbm as lgb\n",
    "import numpy as np\n",
    "\n",
    "# 5折交叉验证\n",
    "Folds=5\n",
    "kf = KFold(len(X_train2),\n",
    "            # n_splits=Folds,\n",
    "            random_state=2019, shuffle=True)\n",
    "# 记录训练和预测MSE\n",
    "MSE_DICT = {\n",
    "    'train_mse':[],\n",
    "    'test_mse':[]\n",
    "}\n",
    "\n",
    "# 线下训练预测\n",
    "for i, (train_index, test_index) in enumerate(kf.split(X_train2)):\n",
    "    # lgb树模型\n",
    "    lgb_reg = lgb.LGBMRegressor(\n",
    "        learning_rate=0.01,\n",
    "        max_depth=-1,\n",
    "        n_estimators=5000,\n",
    "        boosting_type='gbdt',\n",
    "        random_state=2019,\n",
    "        objective='regression',\n",
    "    )\n",
    "   \n",
    "    # 切分训练集和预测集\n",
    "    X_train_KFold, X_test_KFold = X_train2[train_index], X_train2[test_index]\n",
    "    y_train_KFold, y_test_KFold = y_train[train_index], y_train[test_index]\n",
    "    \n",
    "    # 训练模型\n",
    "    lgb_reg.fit(\n",
    "            X=X_train_KFold,y=y_train_KFold,\n",
    "            eval_set=[(X_train_KFold, y_train_KFold),(X_test_KFold, y_test_KFold)],\n",
    "            eval_names=['Train','Test'],\n",
    "            early_stopping_rounds=100,\n",
    "            eval_metric='MSE',\n",
    "            verbose=50\n",
    "        )\n",
    "\n",
    "\n",
    "    # 训练集预测 测试集预测\n",
    "    y_train_KFold_predict = lgb_reg.predict(X_train_KFold,num_iteration=lgb_reg.best_iteration_)\n",
    "    y_test_KFold_predict = lgb_reg.predict(X_test_KFold,num_iteration=lgb_reg.best_iteration_) \n",
    "    \n",
    "    print('第{}折 训练和预测 训练MSE 预测MSE'.format(i))\n",
    "    train_mse = mean_squared_error(y_train_KFold_predict, y_train_KFold)\n",
    "    print('------\\n', '训练MSE\\n', train_mse, '\\n------')\n",
    "    test_mse = mean_squared_error(y_test_KFold_predict, y_test_KFold)\n",
    "    print('------\\n', '预测MSE\\n', test_mse, '\\n------\\n')\n",
    "    \n",
    "    MSE_DICT['train_mse'].append(train_mse)\n",
    "    MSE_DICT['test_mse'].append(test_mse)\n",
    "print('------\\n', '训练MSE\\n', MSE_DICT['train_mse'], '\\n', np.mean(MSE_DICT['train_mse']), '\\n------')\n",
    "print('------\\n', '预测MSE\\n', MSE_DICT['test_mse'], '\\n', np.mean(MSE_DICT['test_mse']), '\\n------')"
   ]
  }
 ],
 "metadata": {
  "kernelspec": {
   "display_name": "base",
   "language": "python",
   "name": "python3"
  },
  "language_info": {
   "codemirror_mode": {
    "name": "ipython",
    "version": 3
   },
   "file_extension": ".py",
   "mimetype": "text/x-python",
   "name": "python",
   "nbconvert_exporter": "python",
   "pygments_lexer": "ipython3",
   "version": "3.7.6"
  }
 },
 "nbformat": 4,
 "nbformat_minor": 2
}
