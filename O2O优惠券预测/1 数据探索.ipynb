{
 "cells": [
  {
   "cell_type": "markdown",
   "metadata": {
    "toc": true
   },
   "source": [
    "<h1>02 数据探索<span class=\"tocSkip\"></span></h1>\n",
    "<div class=\"toc\"><ul class=\"toc-item\"><li><span><a href=\"#工具包导入&amp;数据读取\" data-toc-modified-id=\"工具包导入&amp;数据读取-1\"><span class=\"toc-item-num\">1&nbsp;&nbsp;</span>工具包导入&amp;数据读取</a></span><ul class=\"toc-item\"><li><span><a href=\"#工具包导入\" data-toc-modified-id=\"工具包导入-1.1\"><span class=\"toc-item-num\">1.1&nbsp;&nbsp;</span>工具包导入</a></span></li><li><span><a href=\"#读取数据\" data-toc-modified-id=\"读取数据-1.2\"><span class=\"toc-item-num\">1.2&nbsp;&nbsp;</span>读取数据</a></span></li></ul></li><li><span><a href=\"#数据初步分析\" data-toc-modified-id=\"数据初步分析-2\"><span class=\"toc-item-num\">2&nbsp;&nbsp;</span>数据初步分析</a></span><ul class=\"toc-item\"><li><span><a href=\"#数据边界\" data-toc-modified-id=\"数据边界-2.1\"><span class=\"toc-item-num\">2.1&nbsp;&nbsp;</span>数据边界</a></span></li><li><span><a href=\"#训练集与测试集的相关性\" data-toc-modified-id=\"训练集与测试集的相关性-2.2\"><span class=\"toc-item-num\">2.2&nbsp;&nbsp;</span>训练集与测试集的相关性</a></span></li><li><span><a href=\"#数据的分布\" data-toc-modified-id=\"数据的分布-2.3\"><span class=\"toc-item-num\">2.3&nbsp;&nbsp;</span>数据的分布</a></span></li></ul></li><li><span><a href=\"#数据处理及分析\" data-toc-modified-id=\"数据处理及分析-3\"><span class=\"toc-item-num\">3&nbsp;&nbsp;</span>数据处理及分析</a></span><ul class=\"toc-item\"><li><span><a href=\"#将特征数值化\" data-toc-modified-id=\"将特征数值化-3.1\"><span class=\"toc-item-num\">3.1&nbsp;&nbsp;</span>将特征数值化</a></span></li><li><span><a href=\"#数据分析\" data-toc-modified-id=\"数据分析-3.2\"><span class=\"toc-item-num\">3.2&nbsp;&nbsp;</span>数据分析</a></span></li><li><span><a href=\"#箱线图查看分布\" data-toc-modified-id=\"箱线图查看分布-3.3\"><span class=\"toc-item-num\">3.3&nbsp;&nbsp;</span>箱线图查看分布</a></span></li><li><span><a href=\"#直方图和QQ图\" data-toc-modified-id=\"直方图和QQ图-3.4\"><span class=\"toc-item-num\">3.4&nbsp;&nbsp;</span>直方图和QQ图</a></span></li><li><span><a href=\"#对比分布\" data-toc-modified-id=\"对比分布-3.5\"><span class=\"toc-item-num\">3.5&nbsp;&nbsp;</span>对比分布</a></span></li><li><span><a href=\"#可视化线性关系\" data-toc-modified-id=\"可视化线性关系-3.6\"><span class=\"toc-item-num\">3.6&nbsp;&nbsp;</span>可视化线性关系</a></span></li></ul></li></ul></div>"
   ]
  },
  {
   "cell_type": "markdown",
   "metadata": {},
   "source": [
    "# 工具包导入&数据读取"
   ]
  },
  {
   "cell_type": "markdown",
   "metadata": {},
   "source": [
    "##  工具包导入"
   ]
  },
  {
   "cell_type": "code",
   "execution_count": 1,
   "metadata": {},
   "outputs": [],
   "source": [
    "import pandas as pd\n",
    "import numpy as np\n",
    "import seaborn as sns\n",
    "import matplotlib.pyplot as plt\n",
    "from datetime import date\n",
    "import datetime as dt\n",
    "from scipy import stats\n",
    "import warnings\n",
    "warnings.filterwarnings(\"ignore\")\n",
    " \n",
    "%matplotlib inline"
   ]
  },
  {
   "cell_type": "markdown",
   "metadata": {},
   "source": [
    "## 读取数据"
   ]
  },
  {
   "cell_type": "code",
   "execution_count": 2,
   "metadata": {},
   "outputs": [],
   "source": [
    "off_train = pd.read_csv('data/ccf_线下_stage1_train.csv',keep_default_na=True)\n",
    "off_train.columns=['user_id','merchant_id','coupon_id','discount_rate','distance','date_received','date']\n",
    "off_test = pd.read_csv('data/ccf_线下_stage1_test_revised.csv',keep_default_na=True)\n",
    "off_test.columns = ['user_id','merchant_id','coupon_id','discount_rate','distance','date_received']\n",
    "on_train = pd.read_csv('data/ccf_线上_stage1_train.csv',keep_default_na=True)\n",
    "on_train.columns = ['user_id','merchant_id','action','coupon_id','discount_rate','date_received','date']\n",
    "off_train[['user_id','merchant_id','coupon_id']]=off_train[['user_id','merchant_id','coupon_id']].astype(str)\n",
    "off_test[['user_id','merchant_id','coupon_id']]=off_test[['user_id','merchant_id','coupon_id']].astype(str)\n",
    "on_train[['user_id','merchant_id','coupon_id']]=on_train[['user_id','merchant_id','coupon_id']].astype(str)"
   ]
  },
  {
   "cell_type": "markdown",
   "metadata": {},
   "source": [
    "## 初步探查"
   ]
  },
  {
   "cell_type": "code",
   "execution_count": 3,
   "metadata": {
    "scrolled": true
   },
   "outputs": [
    {
     "data": {
      "text/html": [
       "<div>\n",
       "<style scoped>\n",
       "    .dataframe tbody tr th:only-of-type {\n",
       "        vertical-align: middle;\n",
       "    }\n",
       "\n",
       "    .dataframe tbody tr th {\n",
       "        vertical-align: top;\n",
       "    }\n",
       "\n",
       "    .dataframe thead th {\n",
       "        text-align: right;\n",
       "    }\n",
       "</style>\n",
       "<table border=\"1\" class=\"dataframe\">\n",
       "  <thead>\n",
       "    <tr style=\"text-align: right;\">\n",
       "      <th></th>\n",
       "      <th>user_id</th>\n",
       "      <th>merchant_id</th>\n",
       "      <th>coupon_id</th>\n",
       "      <th>discount_rate</th>\n",
       "      <th>distance</th>\n",
       "      <th>date_received</th>\n",
       "      <th>date</th>\n",
       "    </tr>\n",
       "  </thead>\n",
       "  <tbody>\n",
       "    <tr>\n",
       "      <th>0</th>\n",
       "      <td>1439408</td>\n",
       "      <td>2632</td>\n",
       "      <td>nan</td>\n",
       "      <td>NaN</td>\n",
       "      <td>0.0</td>\n",
       "      <td>NaN</td>\n",
       "      <td>20160217.0</td>\n",
       "    </tr>\n",
       "    <tr>\n",
       "      <th>1</th>\n",
       "      <td>1439408</td>\n",
       "      <td>4663</td>\n",
       "      <td>11002.0</td>\n",
       "      <td>150:20</td>\n",
       "      <td>1.0</td>\n",
       "      <td>20160528.0</td>\n",
       "      <td>NaN</td>\n",
       "    </tr>\n",
       "    <tr>\n",
       "      <th>2</th>\n",
       "      <td>1439408</td>\n",
       "      <td>2632</td>\n",
       "      <td>8591.0</td>\n",
       "      <td>20:1</td>\n",
       "      <td>0.0</td>\n",
       "      <td>20160217.0</td>\n",
       "      <td>NaN</td>\n",
       "    </tr>\n",
       "    <tr>\n",
       "      <th>3</th>\n",
       "      <td>1439408</td>\n",
       "      <td>2632</td>\n",
       "      <td>1078.0</td>\n",
       "      <td>20:1</td>\n",
       "      <td>0.0</td>\n",
       "      <td>20160319.0</td>\n",
       "      <td>NaN</td>\n",
       "    </tr>\n",
       "    <tr>\n",
       "      <th>4</th>\n",
       "      <td>1439408</td>\n",
       "      <td>2632</td>\n",
       "      <td>8591.0</td>\n",
       "      <td>20:1</td>\n",
       "      <td>0.0</td>\n",
       "      <td>20160613.0</td>\n",
       "      <td>NaN</td>\n",
       "    </tr>\n",
       "  </tbody>\n",
       "</table>\n",
       "</div>"
      ],
      "text/plain": [
       "   user_id merchant_id coupon_id discount_rate  distance  date_received  \\\n",
       "0  1439408        2632       nan           NaN       0.0            NaN   \n",
       "1  1439408        4663   11002.0        150:20       1.0     20160528.0   \n",
       "2  1439408        2632    8591.0          20:1       0.0     20160217.0   \n",
       "3  1439408        2632    1078.0          20:1       0.0     20160319.0   \n",
       "4  1439408        2632    8591.0          20:1       0.0     20160613.0   \n",
       "\n",
       "         date  \n",
       "0  20160217.0  \n",
       "1         NaN  \n",
       "2         NaN  \n",
       "3         NaN  \n",
       "4         NaN  "
      ]
     },
     "execution_count": 3,
     "metadata": {},
     "output_type": "execute_result"
    }
   ],
   "source": [
    "#线下训练数据\n",
    "off_train.head()"
   ]
  },
  {
   "cell_type": "code",
   "execution_count": 4,
   "metadata": {},
   "outputs": [
    {
     "data": {
      "text/html": [
       "<div>\n",
       "<style scoped>\n",
       "    .dataframe tbody tr th:only-of-type {\n",
       "        vertical-align: middle;\n",
       "    }\n",
       "\n",
       "    .dataframe tbody tr th {\n",
       "        vertical-align: top;\n",
       "    }\n",
       "\n",
       "    .dataframe thead th {\n",
       "        text-align: right;\n",
       "    }\n",
       "</style>\n",
       "<table border=\"1\" class=\"dataframe\">\n",
       "  <thead>\n",
       "    <tr style=\"text-align: right;\">\n",
       "      <th></th>\n",
       "      <th>user_id</th>\n",
       "      <th>merchant_id</th>\n",
       "      <th>action</th>\n",
       "      <th>coupon_id</th>\n",
       "      <th>discount_rate</th>\n",
       "      <th>date_received</th>\n",
       "      <th>date</th>\n",
       "    </tr>\n",
       "  </thead>\n",
       "  <tbody>\n",
       "    <tr>\n",
       "      <th>0</th>\n",
       "      <td>13740231</td>\n",
       "      <td>18907</td>\n",
       "      <td>2</td>\n",
       "      <td>100017492</td>\n",
       "      <td>500:50</td>\n",
       "      <td>20160513.0</td>\n",
       "      <td>NaN</td>\n",
       "    </tr>\n",
       "    <tr>\n",
       "      <th>1</th>\n",
       "      <td>13740231</td>\n",
       "      <td>34805</td>\n",
       "      <td>1</td>\n",
       "      <td>nan</td>\n",
       "      <td>NaN</td>\n",
       "      <td>NaN</td>\n",
       "      <td>20160321.0</td>\n",
       "    </tr>\n",
       "    <tr>\n",
       "      <th>2</th>\n",
       "      <td>14336199</td>\n",
       "      <td>18907</td>\n",
       "      <td>0</td>\n",
       "      <td>nan</td>\n",
       "      <td>NaN</td>\n",
       "      <td>NaN</td>\n",
       "      <td>20160618.0</td>\n",
       "    </tr>\n",
       "    <tr>\n",
       "      <th>3</th>\n",
       "      <td>14336199</td>\n",
       "      <td>18907</td>\n",
       "      <td>0</td>\n",
       "      <td>nan</td>\n",
       "      <td>NaN</td>\n",
       "      <td>NaN</td>\n",
       "      <td>20160618.0</td>\n",
       "    </tr>\n",
       "    <tr>\n",
       "      <th>4</th>\n",
       "      <td>14336199</td>\n",
       "      <td>18907</td>\n",
       "      <td>0</td>\n",
       "      <td>nan</td>\n",
       "      <td>NaN</td>\n",
       "      <td>NaN</td>\n",
       "      <td>20160618.0</td>\n",
       "    </tr>\n",
       "  </tbody>\n",
       "</table>\n",
       "</div>"
      ],
      "text/plain": [
       "    user_id merchant_id  action  coupon_id discount_rate  date_received  \\\n",
       "0  13740231       18907       2  100017492        500:50     20160513.0   \n",
       "1  13740231       34805       1        nan           NaN            NaN   \n",
       "2  14336199       18907       0        nan           NaN            NaN   \n",
       "3  14336199       18907       0        nan           NaN            NaN   \n",
       "4  14336199       18907       0        nan           NaN            NaN   \n",
       "\n",
       "         date  \n",
       "0         NaN  \n",
       "1  20160321.0  \n",
       "2  20160618.0  \n",
       "3  20160618.0  \n",
       "4  20160618.0  "
      ]
     },
     "execution_count": 4,
     "metadata": {},
     "output_type": "execute_result"
    }
   ],
   "source": [
    "#线上训练数据\n",
    "on_train.head()"
   ]
  },
  {
   "cell_type": "code",
   "execution_count": 5,
   "metadata": {},
   "outputs": [
    {
     "data": {
      "text/html": [
       "<div>\n",
       "<style scoped>\n",
       "    .dataframe tbody tr th:only-of-type {\n",
       "        vertical-align: middle;\n",
       "    }\n",
       "\n",
       "    .dataframe tbody tr th {\n",
       "        vertical-align: top;\n",
       "    }\n",
       "\n",
       "    .dataframe thead th {\n",
       "        text-align: right;\n",
       "    }\n",
       "</style>\n",
       "<table border=\"1\" class=\"dataframe\">\n",
       "  <thead>\n",
       "    <tr style=\"text-align: right;\">\n",
       "      <th></th>\n",
       "      <th>user_id</th>\n",
       "      <th>merchant_id</th>\n",
       "      <th>coupon_id</th>\n",
       "      <th>discount_rate</th>\n",
       "      <th>distance</th>\n",
       "      <th>date_received</th>\n",
       "    </tr>\n",
       "  </thead>\n",
       "  <tbody>\n",
       "    <tr>\n",
       "      <th>0</th>\n",
       "      <td>4129537</td>\n",
       "      <td>450</td>\n",
       "      <td>9983</td>\n",
       "      <td>30:5</td>\n",
       "      <td>1.0</td>\n",
       "      <td>20160712</td>\n",
       "    </tr>\n",
       "    <tr>\n",
       "      <th>1</th>\n",
       "      <td>6949378</td>\n",
       "      <td>1300</td>\n",
       "      <td>3429</td>\n",
       "      <td>30:5</td>\n",
       "      <td>NaN</td>\n",
       "      <td>20160706</td>\n",
       "    </tr>\n",
       "    <tr>\n",
       "      <th>2</th>\n",
       "      <td>2166529</td>\n",
       "      <td>7113</td>\n",
       "      <td>6928</td>\n",
       "      <td>200:20</td>\n",
       "      <td>5.0</td>\n",
       "      <td>20160727</td>\n",
       "    </tr>\n",
       "    <tr>\n",
       "      <th>3</th>\n",
       "      <td>2166529</td>\n",
       "      <td>7113</td>\n",
       "      <td>1808</td>\n",
       "      <td>100:10</td>\n",
       "      <td>5.0</td>\n",
       "      <td>20160727</td>\n",
       "    </tr>\n",
       "    <tr>\n",
       "      <th>4</th>\n",
       "      <td>6172162</td>\n",
       "      <td>7605</td>\n",
       "      <td>6500</td>\n",
       "      <td>30:1</td>\n",
       "      <td>2.0</td>\n",
       "      <td>20160708</td>\n",
       "    </tr>\n",
       "  </tbody>\n",
       "</table>\n",
       "</div>"
      ],
      "text/plain": [
       "   user_id merchant_id coupon_id discount_rate  distance  date_received\n",
       "0  4129537         450      9983          30:5       1.0       20160712\n",
       "1  6949378        1300      3429          30:5       NaN       20160706\n",
       "2  2166529        7113      6928        200:20       5.0       20160727\n",
       "3  2166529        7113      1808        100:10       5.0       20160727\n",
       "4  6172162        7605      6500          30:1       2.0       20160708"
      ]
     },
     "execution_count": 5,
     "metadata": {},
     "output_type": "execute_result"
    }
   ],
   "source": [
    "#测试数据\n",
    "off_test.head()"
   ]
  },
  {
   "cell_type": "code",
   "execution_count": 6,
   "metadata": {
    "scrolled": true
   },
   "outputs": [
    {
     "name": "stdout",
     "output_type": "stream",
     "text": [
      "<class 'pandas.core.frame.DataFrame'>\n",
      "RangeIndex: 1754884 entries, 0 to 1754883\n",
      "Data columns (total 7 columns):\n",
      " #   Column         Dtype  \n",
      "---  ------         -----  \n",
      " 0   user_id        object \n",
      " 1   merchant_id    object \n",
      " 2   coupon_id      object \n",
      " 3   discount_rate  object \n",
      " 4   distance       float64\n",
      " 5   date_received  float64\n",
      " 6   date           float64\n",
      "dtypes: float64(3), object(4)\n",
      "memory usage: 93.7+ MB\n"
     ]
    }
   ],
   "source": [
    "#线下训练数据\n",
    "off_train.info()"
   ]
  },
  {
   "cell_type": "code",
   "execution_count": 9,
   "metadata": {},
   "outputs": [
    {
     "name": "stdout",
     "output_type": "stream",
     "text": [
      "<class 'pandas.core.frame.DataFrame'>\n",
      "RangeIndex: 11429826 entries, 0 to 11429825\n",
      "Data columns (total 7 columns):\n",
      " #   Column         Dtype  \n",
      "---  ------         -----  \n",
      " 0   user_id        object \n",
      " 1   merchant_id    object \n",
      " 2   action         int64  \n",
      " 3   coupon_id      object \n",
      " 4   discount_rate  object \n",
      " 5   date_received  float64\n",
      " 6   date           float64\n",
      "dtypes: float64(2), int64(1), object(4)\n",
      "memory usage: 610.4+ MB\n"
     ]
    }
   ],
   "source": [
    "#线上训练数据\n",
    "on_train.info()"
   ]
  },
  {
   "cell_type": "code",
   "execution_count": 10,
   "metadata": {},
   "outputs": [
    {
     "name": "stdout",
     "output_type": "stream",
     "text": [
      "<class 'pandas.core.frame.DataFrame'>\n",
      "RangeIndex: 113640 entries, 0 to 113639\n",
      "Data columns (total 6 columns):\n",
      " #   Column         Non-Null Count   Dtype  \n",
      "---  ------         --------------   -----  \n",
      " 0   user_id        113640 non-null  object \n",
      " 1   merchant_id    113640 non-null  object \n",
      " 2   coupon_id      113640 non-null  object \n",
      " 3   discount_rate  113640 non-null  object \n",
      " 4   distance       101576 non-null  float64\n",
      " 5   date_received  113640 non-null  int64  \n",
      "dtypes: float64(1), int64(1), object(4)\n",
      "memory usage: 5.2+ MB\n"
     ]
    }
   ],
   "source": [
    "#测试集\n",
    "off_test.info()"
   ]
  },
  {
   "cell_type": "markdown",
   "metadata": {},
   "source": [
    "distance 列有 11,064 个缺失值（113,640 - 101,576）。这表明大约 10% 的记录缺少距离信息。"
   ]
  },
  {
   "cell_type": "code",
   "execution_count": 11,
   "metadata": {},
   "outputs": [
    {
     "data": {
      "text/html": [
       "<div>\n",
       "<style scoped>\n",
       "    .dataframe tbody tr th:only-of-type {\n",
       "        vertical-align: middle;\n",
       "    }\n",
       "\n",
       "    .dataframe tbody tr th {\n",
       "        vertical-align: top;\n",
       "    }\n",
       "\n",
       "    .dataframe thead th {\n",
       "        text-align: right;\n",
       "    }\n",
       "</style>\n",
       "<table border=\"1\" class=\"dataframe\">\n",
       "  <thead>\n",
       "    <tr style=\"text-align: right;\">\n",
       "      <th></th>\n",
       "      <th>distance</th>\n",
       "      <th>date_received</th>\n",
       "      <th>date</th>\n",
       "    </tr>\n",
       "  </thead>\n",
       "  <tbody>\n",
       "    <tr>\n",
       "      <th>count</th>\n",
       "      <td>1.648881e+06</td>\n",
       "      <td>1.053282e+06</td>\n",
       "      <td>7.769840e+05</td>\n",
       "    </tr>\n",
       "    <tr>\n",
       "      <th>mean</th>\n",
       "      <td>2.361636e+00</td>\n",
       "      <td>2.016032e+07</td>\n",
       "      <td>2.016040e+07</td>\n",
       "    </tr>\n",
       "    <tr>\n",
       "      <th>std</th>\n",
       "      <td>3.483974e+00</td>\n",
       "      <td>1.771416e+02</td>\n",
       "      <td>1.621500e+02</td>\n",
       "    </tr>\n",
       "    <tr>\n",
       "      <th>min</th>\n",
       "      <td>0.000000e+00</td>\n",
       "      <td>2.016010e+07</td>\n",
       "      <td>2.016010e+07</td>\n",
       "    </tr>\n",
       "    <tr>\n",
       "      <th>25%</th>\n",
       "      <td>0.000000e+00</td>\n",
       "      <td>2.016013e+07</td>\n",
       "      <td>2.016031e+07</td>\n",
       "    </tr>\n",
       "    <tr>\n",
       "      <th>50%</th>\n",
       "      <td>0.000000e+00</td>\n",
       "      <td>2.016032e+07</td>\n",
       "      <td>2.016042e+07</td>\n",
       "    </tr>\n",
       "    <tr>\n",
       "      <th>75%</th>\n",
       "      <td>3.000000e+00</td>\n",
       "      <td>2.016051e+07</td>\n",
       "      <td>2.016052e+07</td>\n",
       "    </tr>\n",
       "    <tr>\n",
       "      <th>max</th>\n",
       "      <td>1.000000e+01</td>\n",
       "      <td>2.016062e+07</td>\n",
       "      <td>2.016063e+07</td>\n",
       "    </tr>\n",
       "  </tbody>\n",
       "</table>\n",
       "</div>"
      ],
      "text/plain": [
       "           distance  date_received          date\n",
       "count  1.648881e+06   1.053282e+06  7.769840e+05\n",
       "mean   2.361636e+00   2.016032e+07  2.016040e+07\n",
       "std    3.483974e+00   1.771416e+02  1.621500e+02\n",
       "min    0.000000e+00   2.016010e+07  2.016010e+07\n",
       "25%    0.000000e+00   2.016013e+07  2.016031e+07\n",
       "50%    0.000000e+00   2.016032e+07  2.016042e+07\n",
       "75%    3.000000e+00   2.016051e+07  2.016052e+07\n",
       "max    1.000000e+01   2.016062e+07  2.016063e+07"
      ]
     },
     "execution_count": 11,
     "metadata": {},
     "output_type": "execute_result"
    }
   ],
   "source": [
    "#线下训练数据\n",
    "off_train.describe()"
   ]
  },
  {
   "cell_type": "markdown",
   "metadata": {},
   "source": [
    "1. 数据分布\n",
    "- distance（距离）：均值约为 2.36，表明平均距离不是特别远。标准差约为 3.48，说明距离的分布有一定的离散性。最小值为 0，最大值为 10，说明距离的范围从 0 到 10。25%、中位数（50%）和 75% 的值都是 0，表明大部分数据点的距离为 0，表示user经常活动的地点离该merchant的最近门店距离低于500米。\n",
    "- date_received（领取优惠券日期）和 date（消费日期）：领取优惠券日期和消费日期它们的均值、标准差、最小值和最大值非常接近，表明它们的分布几乎相同。似乎是，用户拿到优惠卷就会立即消费？\n",
    "2. 数据完整性\n",
    "- distance 没有缺失值，完整性较好。\n",
    "- date_received 列有 1,053,282 条记录，而 date 列有 776,984 条记录，表明存在缺失值。"
   ]
  },
  {
   "cell_type": "code",
   "execution_count": 12,
   "metadata": {},
   "outputs": [
    {
     "data": {
      "text/html": [
       "<div>\n",
       "<style scoped>\n",
       "    .dataframe tbody tr th:only-of-type {\n",
       "        vertical-align: middle;\n",
       "    }\n",
       "\n",
       "    .dataframe tbody tr th {\n",
       "        vertical-align: top;\n",
       "    }\n",
       "\n",
       "    .dataframe thead th {\n",
       "        text-align: right;\n",
       "    }\n",
       "</style>\n",
       "<table border=\"1\" class=\"dataframe\">\n",
       "  <thead>\n",
       "    <tr style=\"text-align: right;\">\n",
       "      <th></th>\n",
       "      <th>action</th>\n",
       "      <th>date_received</th>\n",
       "      <th>date</th>\n",
       "    </tr>\n",
       "  </thead>\n",
       "  <tbody>\n",
       "    <tr>\n",
       "      <th>count</th>\n",
       "      <td>1.142983e+07</td>\n",
       "      <td>8.723570e+05</td>\n",
       "      <td>1.077393e+07</td>\n",
       "    </tr>\n",
       "    <tr>\n",
       "      <th>mean</th>\n",
       "      <td>2.348193e-01</td>\n",
       "      <td>2.016037e+07</td>\n",
       "      <td>2.016039e+07</td>\n",
       "    </tr>\n",
       "    <tr>\n",
       "      <th>std</th>\n",
       "      <td>5.426314e-01</td>\n",
       "      <td>1.560031e+02</td>\n",
       "      <td>1.732371e+02</td>\n",
       "    </tr>\n",
       "    <tr>\n",
       "      <th>min</th>\n",
       "      <td>0.000000e+00</td>\n",
       "      <td>2.016010e+07</td>\n",
       "      <td>2.016010e+07</td>\n",
       "    </tr>\n",
       "    <tr>\n",
       "      <th>25%</th>\n",
       "      <td>0.000000e+00</td>\n",
       "      <td>2.016023e+07</td>\n",
       "      <td>2.016023e+07</td>\n",
       "    </tr>\n",
       "    <tr>\n",
       "      <th>50%</th>\n",
       "      <td>0.000000e+00</td>\n",
       "      <td>2.016040e+07</td>\n",
       "      <td>2.016041e+07</td>\n",
       "    </tr>\n",
       "    <tr>\n",
       "      <th>75%</th>\n",
       "      <td>0.000000e+00</td>\n",
       "      <td>2.016051e+07</td>\n",
       "      <td>2.016052e+07</td>\n",
       "    </tr>\n",
       "    <tr>\n",
       "      <th>max</th>\n",
       "      <td>2.000000e+00</td>\n",
       "      <td>2.016062e+07</td>\n",
       "      <td>2.016063e+07</td>\n",
       "    </tr>\n",
       "  </tbody>\n",
       "</table>\n",
       "</div>"
      ],
      "text/plain": [
       "             action  date_received          date\n",
       "count  1.142983e+07   8.723570e+05  1.077393e+07\n",
       "mean   2.348193e-01   2.016037e+07  2.016039e+07\n",
       "std    5.426314e-01   1.560031e+02  1.732371e+02\n",
       "min    0.000000e+00   2.016010e+07  2.016010e+07\n",
       "25%    0.000000e+00   2.016023e+07  2.016023e+07\n",
       "50%    0.000000e+00   2.016040e+07  2.016041e+07\n",
       "75%    0.000000e+00   2.016051e+07  2.016052e+07\n",
       "max    2.000000e+00   2.016062e+07  2.016063e+07"
      ]
     },
     "execution_count": 12,
     "metadata": {},
     "output_type": "execute_result"
    }
   ],
   "source": [
    "#线上训练数据\n",
    "on_train.describe()"
   ]
  },
  {
   "cell_type": "code",
   "execution_count": 7,
   "metadata": {
    "scrolled": true
   },
   "outputs": [
    {
     "data": {
      "text/html": [
       "<div>\n",
       "<style scoped>\n",
       "    .dataframe tbody tr th:only-of-type {\n",
       "        vertical-align: middle;\n",
       "    }\n",
       "\n",
       "    .dataframe tbody tr th {\n",
       "        vertical-align: top;\n",
       "    }\n",
       "\n",
       "    .dataframe thead th {\n",
       "        text-align: right;\n",
       "    }\n",
       "</style>\n",
       "<table border=\"1\" class=\"dataframe\">\n",
       "  <thead>\n",
       "    <tr style=\"text-align: right;\">\n",
       "      <th></th>\n",
       "      <th>distance</th>\n",
       "      <th>date_received</th>\n",
       "    </tr>\n",
       "  </thead>\n",
       "  <tbody>\n",
       "    <tr>\n",
       "      <th>count</th>\n",
       "      <td>101576.000000</td>\n",
       "      <td>1.136400e+05</td>\n",
       "    </tr>\n",
       "    <tr>\n",
       "      <th>mean</th>\n",
       "      <td>2.328040</td>\n",
       "      <td>2.016072e+07</td>\n",
       "    </tr>\n",
       "    <tr>\n",
       "      <th>std</th>\n",
       "      <td>3.260755</td>\n",
       "      <td>9.019508e+00</td>\n",
       "    </tr>\n",
       "    <tr>\n",
       "      <th>min</th>\n",
       "      <td>0.000000</td>\n",
       "      <td>2.016070e+07</td>\n",
       "    </tr>\n",
       "    <tr>\n",
       "      <th>25%</th>\n",
       "      <td>0.000000</td>\n",
       "      <td>2.016071e+07</td>\n",
       "    </tr>\n",
       "    <tr>\n",
       "      <th>50%</th>\n",
       "      <td>1.000000</td>\n",
       "      <td>2.016072e+07</td>\n",
       "    </tr>\n",
       "    <tr>\n",
       "      <th>75%</th>\n",
       "      <td>3.000000</td>\n",
       "      <td>2.016072e+07</td>\n",
       "    </tr>\n",
       "    <tr>\n",
       "      <th>max</th>\n",
       "      <td>10.000000</td>\n",
       "      <td>2.016073e+07</td>\n",
       "    </tr>\n",
       "  </tbody>\n",
       "</table>\n",
       "</div>"
      ],
      "text/plain": [
       "            distance  date_received\n",
       "count  101576.000000   1.136400e+05\n",
       "mean        2.328040   2.016072e+07\n",
       "std         3.260755   9.019508e+00\n",
       "min         0.000000   2.016070e+07\n",
       "25%         0.000000   2.016071e+07\n",
       "50%         1.000000   2.016072e+07\n",
       "75%         3.000000   2.016072e+07\n",
       "max        10.000000   2.016073e+07"
      ]
     },
     "execution_count": 7,
     "metadata": {},
     "output_type": "execute_result"
    }
   ],
   "source": [
    "##测试集\n",
    "off_test.describe()"
   ]
  },
  {
   "cell_type": "code",
   "execution_count": 8,
   "metadata": {},
   "outputs": [
    {
     "data": {
      "text/plain": [
       "user_id               0\n",
       "merchant_id           0\n",
       "coupon_id             0\n",
       "discount_rate    701602\n",
       "distance         106003\n",
       "date_received    701602\n",
       "date             977900\n",
       "dtype: int64"
      ]
     },
     "execution_count": 8,
     "metadata": {},
     "output_type": "execute_result"
    }
   ],
   "source": [
    "#线下训练数据\n",
    "off_train.isnull().sum()"
   ]
  },
  {
   "cell_type": "code",
   "execution_count": 13,
   "metadata": {},
   "outputs": [
    {
     "data": {
      "text/plain": [
       "user_id                 0\n",
       "merchant_id             0\n",
       "action                  0\n",
       "coupon_id               0\n",
       "discount_rate    10557469\n",
       "date_received    10557469\n",
       "date               655898\n",
       "dtype: int64"
      ]
     },
     "execution_count": 13,
     "metadata": {},
     "output_type": "execute_result"
    }
   ],
   "source": [
    "#线上训练数据\n",
    "on_train.isnull().sum()"
   ]
  },
  {
   "cell_type": "code",
   "execution_count": 14,
   "metadata": {},
   "outputs": [
    {
     "data": {
      "text/plain": [
       "user_id              0\n",
       "merchant_id          0\n",
       "coupon_id            0\n",
       "discount_rate        0\n",
       "distance         12064\n",
       "date_received        0\n",
       "dtype: int64"
      ]
     },
     "execution_count": 14,
     "metadata": {},
     "output_type": "execute_result"
    }
   ],
   "source": [
    "#测试集\n",
    "off_test.isnull().sum()"
   ]
  },
  {
   "cell_type": "markdown",
   "metadata": {},
   "source": [
    "# 数据初步分析"
   ]
  },
  {
   "cell_type": "markdown",
   "metadata": {},
   "source": [
    "## 数据边界"
   ]
  },
  {
   "cell_type": "markdown",
   "metadata": {},
   "source": [
    "对数据日期范围情况进行初步探索。"
   ]
  },
  {
   "cell_type": "code",
   "execution_count": 21,
   "metadata": {},
   "outputs": [],
   "source": [
    "#重新读取数据，将null原样保持，方便处理\n",
    "off_train = pd.read_csv('data/ccf_线下_stage1_train.csv',keep_default_na=False)\n",
    "off_train.columns=['user_id','merchant_id','coupon_id','discount_rate','distance','date_received','date']\n",
    "off_test = pd.read_csv('data/ccf_线下_stage1_test_revised.csv',keep_default_na=False)\n",
    "off_test.columns = ['user_id','merchant_id','coupon_id','discount_rate','distance','date_received']\n",
    "on_train = pd.read_csv('data/ccf_线上_stage1_train.csv',keep_default_na=False)\n",
    "on_train.columns = ['user_id','merchant_id','action','coupon_id','discount_rate','date_received','date']\n",
    "off_train[['user_id','merchant_id','coupon_id']]=off_train[['user_id','merchant_id','coupon_id']].astype(str)\n",
    "off_test[['user_id','merchant_id','coupon_id']]=off_test[['user_id','merchant_id','coupon_id']].astype(str)\n",
    "on_train[['user_id','merchant_id','coupon_id']]=on_train[['user_id','merchant_id','coupon_id']].astype(str)"
   ]
  },
  {
   "cell_type": "code",
   "execution_count": null,
   "metadata": {},
   "outputs": [
    {
     "name": "stdout",
     "output_type": "stream",
     "text": [
      "offline train date_received\n",
      "20160101\n",
      "20160615\n",
      "online train date_received\n",
      "20160101\n",
      "20160615\n",
      "test date_received\n",
      "20160701\n",
      "20160731\n"
     ]
    }
   ],
   "source": [
    "print('线下 train date_received')\n",
    "print(off_train[off_train['date_received']!='null']['date_received'].min())\n",
    "print(off_train[off_train['date_received']!='null']['date_received'].max())\n",
    "\n",
    "print('线上 train date_received')\n",
    "print(on_train[on_train['date_received']!='null']['date_received'].min())\n",
    "print(on_train[on_train['date_received']!='null']['date_received'].max())\n",
    "\n",
    "print('test date_received')\n",
    "print(off_test['date_received'].min())\n",
    "print(off_test['date_received'].max())"
   ]
  },
  {
   "cell_type": "code",
   "execution_count": null,
   "metadata": {},
   "outputs": [
    {
     "name": "stdout",
     "output_type": "stream",
     "text": [
      "offline train date\n",
      "20160101\n",
      "20160630\n",
      "online train date\n",
      "20160101\n",
      "20160630\n"
     ]
    }
   ],
   "source": [
    "print('线下 train date')\n",
    "print(off_train[off_train['date']!='null']['date'].min())\n",
    "print(off_train[off_train['date']!='null']['date'].max())\n",
    "\n",
    "print('线上 train date')\n",
    "print(on_train[on_train['date']!='null']['date'].min())\n",
    "print(on_train[on_train['date']!='null']['date'].max())"
   ]
  },
  {
   "cell_type": "markdown",
   "metadata": {},
   "source": [
    "通过探索可以发现训练数据的用券数据是到6月30日，而领券日期并不是到6月30日，而是到6月15日，这在设计滑窗结构的时候需要注意。"
   ]
  },
  {
   "cell_type": "markdown",
   "metadata": {},
   "source": [
    "## 训练集与测试集的相关性"
   ]
  },
  {
   "cell_type": "markdown",
   "metadata": {},
   "source": [
    "在机器学习比赛及实际应用的时候，不同数据的价值是不一样的，同时也并不是所有得到的数据都是有用的。对测试集和训练集数据的重合情况进行探查对于后续的特征构建的思路有很大的指导作用。"
   ]
  },
  {
   "cell_type": "markdown",
   "metadata": {},
   "source": [
    "### 训练集中user_id与测试集的重合度"
   ]
  },
  {
   "cell_type": "code",
   "execution_count": 30,
   "metadata": {},
   "outputs": [
    {
     "name": "stdout",
     "output_type": "stream",
     "text": [
      "线下 训练集用户ID数量\n",
      "539438\n",
      "线上 训练集用户ID数量\n",
      "762858\n",
      "线下 测试集用户ID数量\n",
      "76309\n"
     ]
    }
   ],
   "source": [
    "#查看线上 线下 训练集的 user_id与测试集的重合度\n",
    "off_train_user=off_train[['user_id']].copy().drop_duplicates()\n",
    "off_test_user=off_test[['user_id']].copy().drop_duplicates()\n",
    "on_train_user=on_train[['user_id']].copy().drop_duplicates()\n",
    "print ('线下 训练集用户ID数量')\n",
    "print (off_train_user.user_id.count())\n",
    "print ('线上 训练集用户ID数量')\n",
    "print (on_train_user.user_id.count())\n",
    "print ('线下 测试集用户ID数量')\n",
    "print (off_test_user.user_id.count())"
   ]
  },
  {
   "cell_type": "code",
   "execution_count": null,
   "metadata": {},
   "outputs": [
    {
     "data": {
      "text/html": [
       "<div>\n",
       "<style scoped>\n",
       "    .dataframe tbody tr th:only-of-type {\n",
       "        vertical-align: middle;\n",
       "    }\n",
       "\n",
       "    .dataframe tbody tr th {\n",
       "        vertical-align: top;\n",
       "    }\n",
       "\n",
       "    .dataframe thead th {\n",
       "        text-align: right;\n",
       "    }\n",
       "</style>\n",
       "<table border=\"1\" class=\"dataframe\">\n",
       "  <thead>\n",
       "    <tr style=\"text-align: right;\">\n",
       "      <th></th>\n",
       "      <th>index</th>\n",
       "      <th>user_id</th>\n",
       "      <th>off_train_flag</th>\n",
       "    </tr>\n",
       "  </thead>\n",
       "  <tbody>\n",
       "    <tr>\n",
       "      <th>0</th>\n",
       "      <td>0</td>\n",
       "      <td>4129537</td>\n",
       "      <td>1.0</td>\n",
       "    </tr>\n",
       "    <tr>\n",
       "      <th>1</th>\n",
       "      <td>1</td>\n",
       "      <td>6949378</td>\n",
       "      <td>1.0</td>\n",
       "    </tr>\n",
       "    <tr>\n",
       "      <th>2</th>\n",
       "      <td>2</td>\n",
       "      <td>2166529</td>\n",
       "      <td>1.0</td>\n",
       "    </tr>\n",
       "    <tr>\n",
       "      <th>3</th>\n",
       "      <td>3</td>\n",
       "      <td>6172162</td>\n",
       "      <td>1.0</td>\n",
       "    </tr>\n",
       "    <tr>\n",
       "      <th>4</th>\n",
       "      <td>4</td>\n",
       "      <td>4005121</td>\n",
       "      <td>1.0</td>\n",
       "    </tr>\n",
       "    <tr>\n",
       "      <th>...</th>\n",
       "      <td>...</td>\n",
       "      <td>...</td>\n",
       "      <td>...</td>\n",
       "    </tr>\n",
       "    <tr>\n",
       "      <th>76304</th>\n",
       "      <td>76304</td>\n",
       "      <td>4451837</td>\n",
       "      <td>1.0</td>\n",
       "    </tr>\n",
       "    <tr>\n",
       "      <th>76305</th>\n",
       "      <td>76305</td>\n",
       "      <td>5828093</td>\n",
       "      <td>1.0</td>\n",
       "    </tr>\n",
       "    <tr>\n",
       "      <th>76306</th>\n",
       "      <td>76306</td>\n",
       "      <td>6626813</td>\n",
       "      <td>1.0</td>\n",
       "    </tr>\n",
       "    <tr>\n",
       "      <th>76307</th>\n",
       "      <td>76307</td>\n",
       "      <td>4547069</td>\n",
       "      <td>1.0</td>\n",
       "    </tr>\n",
       "    <tr>\n",
       "      <th>76308</th>\n",
       "      <td>76308</td>\n",
       "      <td>6675965</td>\n",
       "      <td>1.0</td>\n",
       "    </tr>\n",
       "  </tbody>\n",
       "</table>\n",
       "<p>76309 rows × 3 columns</p>\n",
       "</div>"
      ],
      "text/plain": [
       "       index  user_id  off_train_flag\n",
       "0          0  4129537             1.0\n",
       "1          1  6949378             1.0\n",
       "2          2  2166529             1.0\n",
       "3          3  6172162             1.0\n",
       "4          4  4005121             1.0\n",
       "...      ...      ...             ...\n",
       "76304  76304  4451837             1.0\n",
       "76305  76305  5828093             1.0\n",
       "76306  76306  6626813             1.0\n",
       "76307  76307  4547069             1.0\n",
       "76308  76308  6675965             1.0\n",
       "\n",
       "[76309 rows x 3 columns]"
      ]
     },
     "execution_count": 25,
     "metadata": {},
     "output_type": "execute_result"
    }
   ],
   "source": [
    "off_train_user['off_train_flag']=1\n",
    "off_merge=off_test_user.merge(off_train_user,on='user_id', how=\"left\").reset_index().fillna(0)\n",
    "off_merge"
   ]
  },
  {
   "cell_type": "code",
   "execution_count": 31,
   "metadata": {},
   "outputs": [
    {
     "name": "stdout",
     "output_type": "stream",
     "text": [
      "线下 训练集用户与测试集用户重复数量\n",
      "76307.0\n",
      "线下 训练集用户与测试集重复用户在总测试集用户中的占比\n",
      "0.9999737907717308\n"
     ]
    }
   ],
   "source": [
    "print ('线下 训练集用户与测试集用户重复数量')\n",
    "print(off_merge['off_train_flag'].sum())\n",
    "print ('线下 训练集用户与测试集重复用户在总测试集用户中的占比')\n",
    "print(off_merge['off_train_flag'].sum()/off_merge['off_train_flag'].count())"
   ]
  },
  {
   "cell_type": "code",
   "execution_count": 32,
   "metadata": {},
   "outputs": [
    {
     "name": "stdout",
     "output_type": "stream",
     "text": [
      "线上 训练集用户与测试集用户重复数量\n",
      "43155.0\n",
      "线上 训练集用户与测试集重复用户在总测试集用户中的占比\n",
      "0.5655296229802513\n"
     ]
    }
   ],
   "source": [
    "on_train_user['on_train_flag']=1\n",
    "on_merge=off_test_user.merge(on_train_user,on='user_id', how=\"left\").reset_index().fillna(0)\n",
    "on_merge\n",
    "print ('线上 训练集用户与测试集用户重复数量')\n",
    "print(on_merge['on_train_flag'].sum())\n",
    "print ('线上 训练集用户与测试集重复用户在总测试集用户中的占比')\n",
    "print(on_merge['on_train_flag'].sum()/on_merge['on_train_flag'].count())"
   ]
  },
  {
   "cell_type": "markdown",
   "metadata": {},
   "source": [
    "###  训练集中merchant_id与测试集的重合度"
   ]
  },
  {
   "cell_type": "code",
   "execution_count": 33,
   "metadata": {},
   "outputs": [
    {
     "name": "stdout",
     "output_type": "stream",
     "text": [
      "线下 训练集商家ID数量\n",
      "8415\n",
      "线上 训练集商家ID数量\n",
      "7999\n",
      "线下 测试集商家ID数量\n",
      "1559\n"
     ]
    }
   ],
   "source": [
    "#查看线上 线下 训练集的 merchant_id 与测试集的重合度\n",
    "off_train_merchant=off_train[['merchant_id']].copy().drop_duplicates()\n",
    "off_test_merchant=off_test[['merchant_id']].copy().drop_duplicates()\n",
    "on_train_merchant=on_train[['merchant_id']].copy().drop_duplicates() \n",
    "print ('线下 训练集商家ID数量')\n",
    "print (off_train_merchant.merchant_id.count())\n",
    "print ('线上 训练集商家ID数量')\n",
    "print (on_train_merchant.merchant_id.count())\n",
    "print ('线下 测试集商家ID数量')\n",
    "print (off_test_merchant.merchant_id.count())"
   ]
  },
  {
   "cell_type": "code",
   "execution_count": 34,
   "metadata": {},
   "outputs": [
    {
     "name": "stdout",
     "output_type": "stream",
     "text": [
      "线下 训练集商家与测试集商家重复数量\n",
      "1558.0\n",
      "线下 训练集商家与测试集重复商家在总测试集商家中的占比\n",
      "0.9993585631815266\n"
     ]
    }
   ],
   "source": [
    "off_train_merchant['off_train_flag']=1\n",
    "off_merge=off_test_merchant.merge(off_train_merchant,on='merchant_id', how=\"left\").reset_index().fillna(0)\n",
    "print ('线下 训练集商家与测试集商家重复数量')\n",
    "print(off_merge['off_train_flag'].sum())\n",
    "print ('线下 训练集商家与测试集重复商家在总测试集商家中的占比')\n",
    "print(off_merge['off_train_flag'].sum()/off_merge['off_train_flag'].count())"
   ]
  },
  {
   "cell_type": "code",
   "execution_count": 35,
   "metadata": {},
   "outputs": [
    {
     "name": "stdout",
     "output_type": "stream",
     "text": [
      "线上 训练集商家与测试集商家重复数量\n",
      "0.0\n",
      "线上 训练集商家与测试集重复商家在总测试集商家中的占比\n",
      "0.0\n"
     ]
    }
   ],
   "source": [
    "on_train_merchant['on_train_flag']=1\n",
    "on_merge=off_test_merchant.merge(on_train_merchant,on='merchant_id', how=\"left\").reset_index().fillna(0)\n",
    "print ('线上 训练集商家与测试集商家重复数量')\n",
    "print(on_merge['on_train_flag'].sum())\n",
    "print ('线上 训练集商家与测试集重复商家在总测试集商家中的占比')\n",
    "print(on_merge['on_train_flag'].sum()/on_merge['on_train_flag'].count())"
   ]
  },
  {
   "cell_type": "markdown",
   "metadata": {},
   "source": [
    "### 训练集中coupon_id与测试集的重合度"
   ]
  },
  {
   "cell_type": "code",
   "execution_count": 36,
   "metadata": {},
   "outputs": [
    {
     "name": "stdout",
     "output_type": "stream",
     "text": [
      "线下 训练集优惠券ID数量\n",
      "9739\n",
      "线上 训练集优惠券ID数量\n",
      "27748\n",
      "线下 测试集优惠券ID数量\n",
      "2050\n"
     ]
    }
   ],
   "source": [
    "#查看线上 线下 训练集的 coupon_id 与测试集的重合度\n",
    "off_train_coupon=off_train[['coupon_id']].copy().drop_duplicates()\n",
    "off_test_coupon=off_test[['coupon_id']].copy().drop_duplicates()\n",
    "on_train_coupon=on_train[['coupon_id']].copy().drop_duplicates()\n",
    "print ('线下 训练集优惠券ID数量')\n",
    "print (off_train_coupon.coupon_id.count())\n",
    "print ('线上 训练集优惠券ID数量')\n",
    "print (on_train_coupon.coupon_id.count())\n",
    "print ('线下 测试集优惠券ID数量')\n",
    "print (off_test_coupon.coupon_id.count())"
   ]
  },
  {
   "cell_type": "code",
   "execution_count": 37,
   "metadata": {},
   "outputs": [
    {
     "name": "stdout",
     "output_type": "stream",
     "text": [
      "线下 训练集优惠券与测试集优惠券重复数量\n",
      "1118.0\n",
      "线下 训练集优惠券与测试集重复优惠券在总测试集优惠券中的占比\n",
      "0.5453658536585366\n"
     ]
    }
   ],
   "source": [
    "off_train_coupon['off_train_flag']=1\n",
    "off_merge=off_test_coupon.merge(off_train_coupon,on='coupon_id', how=\"left\").reset_index().fillna(0)\n",
    "print ('线下 训练集优惠券与测试集优惠券重复数量')\n",
    "print(off_merge['off_train_flag'].sum())\n",
    "print ('线下 训练集优惠券与测试集重复优惠券在总测试集优惠券中的占比')\n",
    "print(off_merge['off_train_flag'].sum()/off_merge['off_train_flag'].count())"
   ]
  },
  {
   "cell_type": "code",
   "execution_count": 38,
   "metadata": {},
   "outputs": [
    {
     "name": "stdout",
     "output_type": "stream",
     "text": [
      "线上 训练集优惠券与测试集优惠券重复数量\n",
      "0.0\n",
      "线上 训练集优惠券与测试集重复优惠券在总测试集优惠券中的占比\n",
      "0.0\n"
     ]
    }
   ],
   "source": [
    "on_train_coupon['on_train_flag']=1\n",
    "on_merge=off_test_coupon.merge(on_train_coupon,on='coupon_id', how=\"left\").reset_index().fillna(0)\n",
    "print ('线上 训练集优惠券与测试集优惠券重复数量')\n",
    "print(on_merge['on_train_flag'].sum())\n",
    "print ('线上 训练集优惠券与测试集重复优惠券在总测试集优惠券中的占比')\n",
    "print(on_merge['on_train_flag'].sum()/on_merge['on_train_flag'].count())"
   ]
  },
  {
   "cell_type": "markdown",
   "metadata": {},
   "source": [
    "对用户，商家，优惠券在训练集和测试集的重合情况进行探索发现：\n",
    "- 测试集的 用户ID 与 线下训练集 重复占比0.999以上，与线上训练集重复占比0.565。\n",
    "- 测试集的 商家ID 与 线下训练集 重复占比0.999以上，与线上训练集没有重复。\n",
    "- 测试集的 优惠券ID 与 训练集 都没有重复。\n",
    "\n",
    "结论：线上数据价值比较低，后续特征提取将以 线下训练集 为主。在提取 优惠券 统计特征的时候不能通过ID进行合并。在后续可视化分析中将主要在线下训练集及测试集之间进行。"
   ]
  },
  {
   "cell_type": "markdown",
   "metadata": {},
   "source": [
    "## 数据的分布"
   ]
  },
  {
   "cell_type": "code",
   "execution_count": null,
   "metadata": {},
   "outputs": [],
   "source": [
    "off_train['discount_rate'].value_counts()"
   ]
  },
  {
   "cell_type": "code",
   "execution_count": null,
   "metadata": {},
   "outputs": [],
   "source": [
    "off_test['discount_rate'].value_counts()"
   ]
  },
  {
   "cell_type": "code",
   "execution_count": null,
   "metadata": {},
   "outputs": [],
   "source": [
    "off_train['distance'].value_counts()"
   ]
  },
  {
   "cell_type": "code",
   "execution_count": null,
   "metadata": {},
   "outputs": [],
   "source": [
    "off_test['distance'].value_counts()"
   ]
  },
  {
   "cell_type": "markdown",
   "metadata": {},
   "source": [
    "通过初步观察感觉训练集和测试集数据分布比较一致。"
   ]
  },
  {
   "cell_type": "markdown",
   "metadata": {},
   "source": [
    "# 数据处理及分析"
   ]
  },
  {
   "cell_type": "markdown",
   "metadata": {},
   "source": [
    "## 将特征数值化"
   ]
  },
  {
   "cell_type": "code",
   "execution_count": 109,
   "metadata": {},
   "outputs": [],
   "source": [
    "#分隔符\n",
    "separator=':'\n",
    "#计算折扣率，将满减和折扣统一\n",
    "#因为discount_rate为null的时候一般都是没有使用优惠券，这个时候折扣应该是1\n",
    "def get_discount_rate(s):\n",
    "    s = str(s)\n",
    "    if s=='null':\n",
    "        return -1\n",
    "        #return 1\n",
    "    s = s.split(separator)\n",
    "    if len(s) == 1:\n",
    "        return float(s[0])\n",
    "    else:\n",
    "        return 1.0-float(s[1])/float(s[0])\n",
    "\n",
    "#获取是否满减（full reduction promotion）\n",
    "def get_if_fd(s):\n",
    "    s = str(s)\n",
    "    s = s.split(separator)\n",
    "    if len(s)==1:\n",
    "        return 0\n",
    "    else:\n",
    "        return 1\n",
    "        \n",
    "#获取满减的条件\n",
    "def get_full_value(s):\n",
    "    s = str(s)\n",
    "    s = s.split(separator)\n",
    "    if len(s)==1:\n",
    "        return -1\n",
    "    else:\n",
    "        return int(s[0])\n",
    "        \n",
    "#获取满减的优惠     \n",
    "def get_reduction_value(s):\n",
    "    s = str(s)\n",
    "    s = s.split(separator)\n",
    "    if len(s) == 1:\n",
    "        return -1\n",
    "    else:\n",
    "        return int(s[1])\n",
    "\n",
    "\n",
    "#获取月份\n",
    "def get_month(s):\n",
    "    if s[0]=='null':\n",
    "        return -1\n",
    "    else:    \n",
    "        return int(s[4:6])\n",
    "\n",
    "#获取日期\n",
    "def get_day(s):\n",
    "    if s[0]=='null':\n",
    "        return -1\n",
    "    else:    \n",
    "        return int(s[6:8])\n",
    "    \n",
    "#获取日期间隔输入内容为Date:Date_received\n",
    "def get_day_gap(s):\n",
    "    s = s.split(separator)\n",
    "    if s[0]=='null':\n",
    "        return -1\n",
    "    if s[1]=='null':\n",
    "        return -1\n",
    "    else:    \n",
    "        return (date(int(s[0][0:4]),int(s[0][4:6]),int(s[0][6:8])) - date(int(s[1][0:4]),int(s[1][4:6]),int(s[1][6:8]))).days\n",
    "\n",
    "#获取Label，输入内容为Date:Date_received\n",
    "def get_label(s):\n",
    "    s = s.split(separator)\n",
    "    if s[0]=='null':\n",
    "        return 0\n",
    "    if s[1]=='null':\n",
    "        return -1\n",
    "    elif (date(int(s[0][0:4]),int(s[0][4:6]),int(s[0][6:8]))-date(int(s[1][0:4]),int(s[1][4:6]),int(s[1][6:8]))).days<=15:\n",
    "        return 1\n",
    "    else:\n",
    "        return -1"
   ]
  },
  {
   "cell_type": "code",
   "execution_count": 110,
   "metadata": {},
   "outputs": [],
   "source": [
    "def add_feature(df):\n",
    "    df['if_fd']=df['discount_rate'].apply(get_if_fd)\n",
    "    df['full_value']=df['discount_rate'].apply(get_full_value)\n",
    "    df['reduction_value']=df['discount_rate'].apply(get_reduction_value)\n",
    "    df['discount_rate']=df['discount_rate'].apply(get_discount_rate)\n",
    "    df['distance']=df['distance'].replace('null',-1).astype(int)\n",
    "    #df['month_received'] = df['date_received'].apply(get_month)\n",
    "    #df['month'] = df['date'].apply(get_month)\n",
    "    return df\n",
    "    \n",
    "def add_label(df):\n",
    "    df['day_gap']=df['date'].astype('str') + ':' +  df['date_received'].astype('str')\n",
    "    df['label']=df['day_gap'].apply(get_label)\n",
    "    df['day_gap']=df['day_gap'].apply(get_day_gap)\n",
    "    return df"
   ]
  },
  {
   "cell_type": "code",
   "execution_count": 111,
   "metadata": {},
   "outputs": [],
   "source": [
    "#拷贝数据，免得调试的时候重读文件\n",
    "dftrain = off_train.copy()\n",
    "dftest = off_test.copy()"
   ]
  },
  {
   "cell_type": "code",
   "execution_count": 112,
   "metadata": {},
   "outputs": [],
   "source": [
    "dftrain=add_feature(dftrain)\n",
    "dftrain=add_label(dftrain)\n",
    "dftest=add_feature(dftest)"
   ]
  },
  {
   "cell_type": "markdown",
   "metadata": {},
   "source": [
    "## 数据分析"
   ]
  },
  {
   "cell_type": "code",
   "execution_count": null,
   "metadata": {
    "scrolled": false
   },
   "outputs": [],
   "source": [
    "dftrain.head()"
   ]
  },
  {
   "cell_type": "code",
   "execution_count": null,
   "metadata": {},
   "outputs": [],
   "source": [
    "dftrain.describe()"
   ]
  },
  {
   "cell_type": "code",
   "execution_count": null,
   "metadata": {},
   "outputs": [],
   "source": [
    "dftest.head()"
   ]
  },
  {
   "cell_type": "code",
   "execution_count": null,
   "metadata": {},
   "outputs": [],
   "source": [
    "dftest.describe()"
   ]
  },
  {
   "cell_type": "code",
   "execution_count": null,
   "metadata": {},
   "outputs": [],
   "source": [
    "dftrain[dftrain.distance>=0]['distance'].value_counts()/dftrain[dftrain.distance>=0]['distance'].count()"
   ]
  },
  {
   "cell_type": "code",
   "execution_count": null,
   "metadata": {},
   "outputs": [],
   "source": [
    "dftest[dftest.distance>=0]['distance'].value_counts()/dftest[dftest.distance>=0]['distance'].count()"
   ]
  },
  {
   "cell_type": "code",
   "execution_count": null,
   "metadata": {},
   "outputs": [],
   "source": [
    "dftrain[(dftrain.label>=0)&(dftrain.distance>=0)]['distance'].value_counts()/dftrain[(dftrain.label>=0)&(dftrain.distance>=0)]['distance'].count()"
   ]
  },
  {
   "cell_type": "code",
   "execution_count": null,
   "metadata": {},
   "outputs": [],
   "source": [
    "dftest[(dftest.distance>=0)]['distance'].value_counts()/dftest[(dftest.distance>=0)]['distance'].count()"
   ]
  },
  {
   "cell_type": "code",
   "execution_count": null,
   "metadata": {},
   "outputs": [],
   "source": [
    "print ('线下 训练集满减情况')\n",
    "dftrain.if_fd.value_counts()/dftrain.if_fd.count()"
   ]
  },
  {
   "cell_type": "code",
   "execution_count": null,
   "metadata": {},
   "outputs": [],
   "source": [
    "print ('测试集满减情况')\n",
    "dftest.if_fd.value_counts()/dftest.if_fd.count()"
   ]
  },
  {
   "cell_type": "markdown",
   "metadata": {},
   "source": [
    "## 箱线图查看分布"
   ]
  },
  {
   "cell_type": "code",
   "execution_count": null,
   "metadata": {},
   "outputs": [],
   "source": [
    "fig = plt.figure(figsize=(4, 6))  # 指定绘图对象宽度和高度\n",
    "sns.boxplot(dftrain[(dftrain.label>=0)&(dftrain.distance>=0)]['distance'],orient=\"v\", width=0.5)"
   ]
  },
  {
   "cell_type": "code",
   "execution_count": null,
   "metadata": {
    "scrolled": true
   },
   "outputs": [],
   "source": [
    "fig = plt.figure(figsize=(4, 6))  # 指定绘图对象宽度和高度\n",
    "sns.boxplot(dftrain[(dftrain.label>=0)&(dftrain.discount_rate>=0)]['discount_rate'],orient=\"v\", width=0.5)"
   ]
  },
  {
   "cell_type": "markdown",
   "metadata": {},
   "source": [
    "## 直方图和QQ图"
   ]
  },
  {
   "cell_type": "code",
   "execution_count": null,
   "metadata": {},
   "outputs": [],
   "source": [
    "plt.figure(figsize=(10,5))\n",
    "\n",
    "ax=plt.subplot(1,2,1)\n",
    "sns.distplot(dftrain[(dftrain.label>=0)&(dftrain.distance>=0)]['distance'],fit=stats.norm)\n",
    "ax=plt.subplot(1,2,2)\n",
    "res = stats.probplot(dftrain[(dftrain.label>=0)&(dftrain.distance>=0)]['distance'], plot=plt)"
   ]
  },
  {
   "cell_type": "code",
   "execution_count": null,
   "metadata": {
    "scrolled": true
   },
   "outputs": [],
   "source": [
    "plt.figure(figsize=(10,5))\n",
    "\n",
    "ax=plt.subplot(1,2,1)\n",
    "sns.distplot(dftrain[(dftrain.label>=0)&(dftrain.discount_rate>=0)]['discount_rate'],fit=stats.norm)\n",
    "ax=plt.subplot(1,2,2)\n",
    "res = stats.probplot(dftrain[(dftrain.label>=0)&(dftrain.discount_rate>=0)]['discount_rate'], plot=plt)"
   ]
  },
  {
   "cell_type": "markdown",
   "metadata": {},
   "source": [
    "## 对比分布"
   ]
  },
  {
   "cell_type": "code",
   "execution_count": null,
   "metadata": {},
   "outputs": [],
   "source": [
    "ax = sns.kdeplot(dftrain[(dftrain.label>=0)&(dftrain.discount_rate>=0)]['discount_rate'], color=\"Red\", shade=True)\n",
    "ax = sns.kdeplot(dftest[(dftest.discount_rate>=0)]['discount_rate'], color=\"Blue\", shade=True)\n",
    "ax.set_xlabel('discount_rate')\n",
    "ax.set_ylabel(\"Frequency\")\n",
    "ax = ax.legend([\"train\",\"test\"])"
   ]
  },
  {
   "cell_type": "code",
   "execution_count": null,
   "metadata": {},
   "outputs": [],
   "source": [
    "ax = sns.kdeplot(dftrain[(dftrain.label>=0)&(dftrain.distance>=0)]['distance'], color=\"Red\", shade=True)\n",
    "ax = sns.kdeplot(dftest[(dftest.distance>=0)]['distance'], color=\"Blue\", shade=True)\n",
    "ax.set_xlabel('distance')\n",
    "ax.set_ylabel(\"Frequency\")\n",
    "ax = ax.legend([\"train\",\"test\"])"
   ]
  },
  {
   "cell_type": "code",
   "execution_count": null,
   "metadata": {},
   "outputs": [],
   "source": [
    "ax = sns.kdeplot(dftrain[(dftrain.label>=0)&(dftrain.full_value>=0)]['full_value'], color=\"Red\", shade=True)\n",
    "ax = sns.kdeplot(dftest[(dftest.full_value>=0)]['full_value'], color=\"Blue\", shade=True)\n",
    "ax.set_xlabel('full_value')\n",
    "ax.set_ylabel(\"Frequency\")\n",
    "ax = ax.legend([\"train\",\"test\"])"
   ]
  },
  {
   "cell_type": "code",
   "execution_count": null,
   "metadata": {},
   "outputs": [],
   "source": [
    "ax = sns.kdeplot(dftrain[(dftrain.label>=0)&(dftrain.reduction_value>=0)]['reduction_value'], color=\"Red\", shade=True)\n",
    "ax = sns.kdeplot(dftest[(dftest.reduction_value>=0)]['reduction_value'], color=\"Blue\", shade=True)\n",
    "ax.set_xlabel('reduction_value')\n",
    "ax.set_ylabel(\"Frequency\")\n",
    "ax = ax.legend([\"train\",\"test\"])"
   ]
  },
  {
   "cell_type": "markdown",
   "metadata": {},
   "source": [
    "## 可视化线性关系"
   ]
  },
  {
   "cell_type": "code",
   "execution_count": null,
   "metadata": {},
   "outputs": [],
   "source": [
    "fcols = 2\n",
    "frows = 1\n",
    "plt.figure(figsize=(8,4))\n",
    "ax=plt.subplot(1,2,1)\n",
    "sns.regplot(x='distance', y='label', data=dftrain[(dftrain.label>=0)&(dftrain.distance>=0)][['distance','label']], ax=ax, \n",
    "            scatter_kws={'marker':'.','s':3,'alpha':0.3},\n",
    "            line_kws={'color':'k'});\n",
    "plt.xlabel('distance')\n",
    "plt.ylabel('label')\n",
    "ax=plt.subplot(1,2,2)\n",
    "sns.distplot(dftrain[(dftrain.label>=0)&(dftrain.distance>=0)]['distance'].dropna())\n",
    "plt.xlabel('distance')\n",
    "plt.show()"
   ]
  },
  {
   "cell_type": "code",
   "execution_count": null,
   "metadata": {},
   "outputs": [],
   "source": [
    "fcols = 2\n",
    "frows = 1\n",
    "plt.figure(figsize=(8,4))\n",
    "ax=plt.subplot(1,2,1)\n",
    "sns.regplot(x='discount_rate', y='label', data=dftrain[(dftrain.label>=0)&(dftrain.discount_rate>=0)][['discount_rate','label']], ax=ax, \n",
    "            scatter_kws={'marker':'.','s':3,'alpha':0.3},\n",
    "            line_kws={'color':'k'});\n",
    "plt.xlabel('discount_rate')\n",
    "plt.ylabel('label')\n",
    "ax=plt.subplot(1,2,2)\n",
    "sns.distplot(dftrain[(dftrain.label>=0)&(dftrain.discount_rate>=0)]['discount_rate'].dropna())\n",
    "plt.xlabel('discount_rate')\n",
    "plt.show()"
   ]
  },
  {
   "cell_type": "code",
   "execution_count": null,
   "metadata": {},
   "outputs": [],
   "source": []
  }
 ],
 "metadata": {
  "kernelspec": {
   "display_name": "base",
   "language": "python",
   "name": "python3"
  },
  "language_info": {
   "codemirror_mode": {
    "name": "ipython",
    "version": 3
   },
   "file_extension": ".py",
   "mimetype": "text/x-python",
   "name": "python",
   "nbconvert_exporter": "python",
   "pygments_lexer": "ipython3",
   "version": "3.7.6"
  },
  "toc": {
   "base_numbering": 1,
   "nav_menu": {},
   "number_sections": true,
   "sideBar": true,
   "skip_h1_title": false,
   "title_cell": "02 数据探索",
   "title_sidebar": "02 数据探索",
   "toc_cell": true,
   "toc_position": {
    "height": "calc(100% - 180px)",
    "left": "10px",
    "top": "150px",
    "width": "265px"
   },
   "toc_section_display": true,
   "toc_window_display": true
  }
 },
 "nbformat": 4,
 "nbformat_minor": 2
}
